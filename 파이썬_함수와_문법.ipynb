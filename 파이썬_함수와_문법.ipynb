{
  "nbformat": 4,
  "nbformat_minor": 0,
  "metadata": {
    "colab": {
      "provenance": [],
      "collapsed_sections": [
        "CSzZunu1uIsF",
        "VTqCPDfW0kxf",
        "mqT63EK7v-Kl",
        "bpLSAt-x5au4",
        "HlLrLN6Twwox",
        "0GER_B_ACcq7"
      ],
      "authorship_tag": "ABX9TyPKqWIhDnvMn3IdLxV8UNW6",
      "include_colab_link": true
    },
    "kernelspec": {
      "name": "python3",
      "display_name": "Python 3"
    },
    "language_info": {
      "name": "python"
    }
  },
  "cells": [
    {
      "cell_type": "markdown",
      "metadata": {
        "id": "view-in-github",
        "colab_type": "text"
      },
      "source": [
        "<a href=\"https://colab.research.google.com/github/projectwint/practice_AI/blob/main/%ED%8C%8C%EC%9D%B4%EC%8D%AC_%ED%95%A8%EC%88%98%EC%99%80_%EB%AC%B8%EB%B2%95.ipynb\" target=\"_parent\"><img src=\"https://colab.research.google.com/assets/colab-badge.svg\" alt=\"Open In Colab\"/></a>"
      ]
    },
    {
      "cell_type": "markdown",
      "source": [
        "# ***array와 asarray***\n",
        "출처 : https://ok-lab.tistory.com/179"
      ],
      "metadata": {
        "id": "CSzZunu1uIsF"
      }
    },
    {
      "cell_type": "markdown",
      "source": [
        "구조적으로 동일 </br>\n",
        "차이점 : array는 copy=True, asarray는 copy=False </br>\n",
        "즉, array는 원본 변경시 복사본 변경 X, asarray는 원본 변경시 복사본 변경 O"
      ],
      "metadata": {
        "id": "idlHeFU2wetQ"
      }
    },
    {
      "cell_type": "code",
      "source": [
        "import numpy as np\n",
        "\n",
        "a = np.ones([3, 4]) #1로 차있는 3, 4 형태 배열 생성\n",
        "\n",
        "a_array = np.array(a)\n",
        "a_asarray = np.asarray(a)\n",
        "\n",
        "a[1] = 0\n",
        "\n",
        "print(f'a_array \\n {a_array} \\n')\n",
        "print(f'a_asarray \\n {a_asarray} \\n')"
      ],
      "metadata": {
        "colab": {
          "base_uri": "https://localhost:8080/"
        },
        "id": "3V_WMH7XxGJw",
        "outputId": "12070367-9807-4802-f9cd-79d9b4c150dd"
      },
      "execution_count": null,
      "outputs": [
        {
          "output_type": "stream",
          "name": "stdout",
          "text": [
            "a_array \n",
            " [[1. 1. 1. 1.]\n",
            " [1. 1. 1. 1.]\n",
            " [1. 1. 1. 1.]] \n",
            "\n",
            "a_asarray \n",
            " [[1. 1. 1. 1.]\n",
            " [0. 0. 0. 0.]\n",
            " [1. 1. 1. 1.]] \n",
            "\n"
          ]
        }
      ]
    },
    {
      "cell_type": "markdown",
      "source": [
        "# ***train_test_split 모듈***\n",
        "출처 : https://teddylee777.github.io/scikit-learn/train-test-split"
      ],
      "metadata": {
        "id": "VTqCPDfW0kxf"
      }
    },
    {
      "cell_type": "markdown",
      "source": [
        "사이킷런(scikit-learn)의 model_selection 패키지 안에 train_test_split 모듈을 활용하여 학습 데이터 셋과 테스트 셋을 분리할 수 있다."
      ],
      "metadata": {
        "id": "rTalicmG0yOq"
      }
    },
    {
      "cell_type": "markdown",
      "source": [
        "***train(학습 셋) / test(테스트 셋) 분리 이유?***\n",
        "\n",
        "머신러닝 모델에 train 데이터를 100% 학습시킨 후 test 데이터에 모델을 적용했을 때 성능이 생각보다 안 나오는 경우(Overfitting)가 생김.\n",
        "\n",
        "모델이 내가 가진 학습 데이터에 너무 과적합되도록 학습하여여, 이를 조금이라도 벗어난 케이스에 대해서는 예측율이 현저히 떨어진다.\n",
        "\n",
        "따라서 기존 train / test로 구분 되어 있었던 데이터 셋을 train에서 train / validation으로 일정 비율 쪼갠 다음에 학습 시에는 train(학습) 셋으로 학습 후 중간중간 validation(테스트) 셋으로 내가 학습한 모델 평가를 해주는 것\n"
      ],
      "metadata": {
        "id": "LEMQ2Rv81a2K"
      }
    },
    {
      "cell_type": "code",
      "source": [
        "from sklearn.datasets import load_iris # 샘플 데이터 로딩\n",
        "from sklearn.model_selection import train_test_split\n",
        "\n",
        "# load sample\n",
        "dataset = load_iris()\n",
        "\n",
        "data = dataset['data']\n",
        "target = dataset['target']\n",
        "\n",
        "# train_test_split\n",
        "x_train, x_valid, y_train, y_valid = train_test_split(data, target, test_size=0.2, shuffle=True, stratify=target, random_state=34)"
      ],
      "metadata": {
        "id": "W6PawGKg3R2O"
      },
      "execution_count": null,
      "outputs": []
    },
    {
      "cell_type": "markdown",
      "source": [
        "***옵션 값 설명***\n",
        "\n",
        "test_size : 테스트 셋 구성 비율. train_size의 옵션과 반대 관계. (주로 test_size를 지정) 0.2는 전체 데이터 셋의 20%를 test (validation) 셋으로 지정하겠다는 의미. **default=0.25**\n",
        "\n",
        "shuffle: split을 해주기 이전에 섞을건지 여부. 보통은 default 값으로 놔둠. **default=True**\n",
        "\n",
        "stratify: classification을 다룰 때 매우 중요한 옵션값. stratify 값을 target으로 지정해주면 각각의 class 비율(ratio)을 train / validation에 유지. (한 쪽에 쏠려서 분배되는 것을 방지) 만약 이 옵션을 지정해 주지 않고 classification 문제를 다룬다면, 성능의 차이가 많이 날 수 있다. **default=None**\n",
        "\n",
        "random_state: 세트를 섞을 때 해당 int 값을 보고 섞으며, 하이퍼 파라미터를 튜닝시 이 값을 고정해두고 튜닝해야 매번 데이터셋이 변경되는 것을 방지할 수 있다."
      ],
      "metadata": {
        "id": "wY6zkrhb4cQd"
      }
    },
    {
      "cell_type": "markdown",
      "source": [
        "# ***glob.glob()***\n",
        "glob 모듈의 glob 함수 - 파일명을 리스트 형식으로 반환환\n",
        "\n",
        "출처 : https://m.blog.naver.com/PostView.naver?isHttpsRedirect=true&blogId=siniphia&logNo=221397012627"
      ],
      "metadata": {
        "id": "mqT63EK7v-Kl"
      }
    },
    {
      "cell_type": "markdown",
      "source": [
        "dir폴더의 모든 파일 목록\n",
        "\n",
        "dir : file1.txt, file2.txt, file101.txt, file102.txt, filea.txt, fileb.txt, file1.jpg, file2.jpg\n",
        "\n",
        "```\n",
        "import glob\n",
        "\n",
        "# '*'는 임의 길이의 모든 문자열을 의미한다.\n",
        ">>> output = glob.glob('dir/*.txt')\n",
        ">>> print(output)\n",
        "['dir\\\\file1.txt', 'dir\\\\file101.txt', 'dir\\\\file102.txt', 'dir\\\\file2.txt', 'dir\\\\filea.txt', 'dir\\\\fileb.txt']\n",
        "\n",
        "# '?'는 한자리의 문자를 의미한다.\n",
        ">>> output = glob.glob('dir/file?.*')\n",
        ">>> print(output)\n",
        "['dir\\\\file1.bmp', 'dir\\\\file1.txt', 'dir\\\\file2.bmp', 'dir\\\\file2.txt', 'dir\\\\filea.txt', 'dir\\\\fileb.txt']\n",
        "\n",
        "# recursive=True로 설정하고 '**'를 사용하면 모든 하위 디렉토리까지 탐색한다.\n",
        "# 기본값은 False이며, 파일이 너무 많을 경우에 사용하면 과도한 cost가 소모된다고 한다.\n",
        "\n",
        "```"
      ],
      "metadata": {
        "id": "XHhArqmSxM55"
      }
    },
    {
      "cell_type": "markdown",
      "source": [
        "# ***예외처리***\n",
        "파이썬에서 오류를 처리하는 방법\n",
        "\n",
        "출처 : https://wikidocs.net/30"
      ],
      "metadata": {
        "id": "bpLSAt-x5au4"
      }
    },
    {
      "cell_type": "markdown",
      "source": [
        "***try, except문***"
      ],
      "metadata": {
        "id": "xP8vZBCD5zHW"
      }
    },
    {
      "cell_type": "markdown",
      "source": [
        "try 블록 수행 중 오류가 발생하면 except 블록이 수행된다. 하지만 try 블록에서 오류가 발생하지 않는다면 except 블록은 수행되지 않는다.\n",
        "\n",
        "\n",
        "```\n",
        "try:\n",
        "    ...\n",
        "except [발생오류 [as 오류변수]]:\n",
        "    ...\n",
        "```\n",
        "\n"
      ],
      "metadata": {
        "id": "v_whEkdg8Hiw"
      }
    },
    {
      "cell_type": "code",
      "source": [
        "#오류 종류에 상관없이\n",
        "try:\n",
        "    ...\n",
        "except:\n",
        "    ...\n",
        "\n",
        "#특정 오류에만\n",
        "try:\n",
        "    ...\n",
        "except 발생오류:\n",
        "    ...\n",
        "\n",
        "#오류의 내용까지 알고 싶을 때\n",
        "try:\n",
        "    4 / 0\n",
        "except ZeroDivisionError as e:\n",
        "    print(e)"
      ],
      "metadata": {
        "colab": {
          "base_uri": "https://localhost:8080/"
        },
        "id": "PfMijbyN5yIg",
        "outputId": "a51cb201-3c9d-4e2f-a428-dc46469c2ead"
      },
      "execution_count": null,
      "outputs": [
        {
          "output_type": "stream",
          "name": "stdout",
          "text": [
            "division by zero\n"
          ]
        }
      ]
    },
    {
      "cell_type": "markdown",
      "source": [
        "여러개 오류 처리\n",
        "\n",
        "\n"
      ],
      "metadata": {
        "id": "58sKFeq_9do4"
      }
    },
    {
      "cell_type": "code",
      "source": [
        "try:\n",
        "    a = [1,2]\n",
        "    print(a[3])\n",
        "    4/0 #여기에 오기 전에 인덱싱 오류가 이미 발생\n",
        "except ZeroDivisionError: #실행 X\n",
        "    print(\"0으로 나눌 수 없습니다.\")\n",
        "except IndexError:\n",
        "    print(\"인덱싱 할 수 없습니다.\")\n",
        "\n",
        "#한꺼번에\n",
        "try:\n",
        "    a = [1,2]\n",
        "    print(a[3])\n",
        "    4/0\n",
        "except (ZeroDivisionError, IndexError) as e: #먼저 발생한 오류 하나 출력\n",
        "    print(e)"
      ],
      "metadata": {
        "colab": {
          "base_uri": "https://localhost:8080/"
        },
        "id": "Inz8UASH9uGs",
        "outputId": "c4269c7c-8869-4dc0-935e-ec26e0f0075e"
      },
      "execution_count": null,
      "outputs": [
        {
          "output_type": "stream",
          "name": "stdout",
          "text": [
            "인덱싱 할 수 없습니다.\n",
            "list index out of range\n"
          ]
        }
      ]
    },
    {
      "cell_type": "markdown",
      "source": [
        "**try .. finally**"
      ],
      "metadata": {
        "id": "njZGqO1L9CpL"
      }
    },
    {
      "cell_type": "markdown",
      "source": [
        "try문에는 finally절을 사용할 수 있다. finally절은 try문 수행 도중 예외 발생 여부에 상관없이 항상 수행된다. 보통 finally절은 사용한 리소스를 close해야 할 때에 많이 사용한다.\n",
        "\n",
        "\n",
        "```\n",
        "try:\n",
        "    f = open('foo.txt', 'w')\n",
        "    # 무언가를 수행한다.\n",
        "\n",
        "    (... 생략 ...)\n",
        "\n",
        "finally:\n",
        "    f.close()  # 중간에 오류가 발생하더라도 무조건 실행된다.\n",
        "```\n",
        "\n"
      ],
      "metadata": {
        "id": "3hXa-OZK9Osz"
      }
    },
    {
      "cell_type": "markdown",
      "source": [
        "***try .. else***"
      ],
      "metadata": {
        "id": "OqMNlQe2-hSB"
      }
    },
    {
      "cell_type": "markdown",
      "source": [
        "try문에는 else절도 사용 가능하다.\n",
        "\n",
        "\n",
        "\n",
        "```\n",
        "try:\n",
        "    ...\n",
        "except [발생오류 [as 오류변수]]:\n",
        "    ...\n",
        "else:  # 오류가 없을 경우에만 수행된다.\n",
        "    ...\n",
        "```\n",
        "\n"
      ],
      "metadata": {
        "id": "78FvBtAA-rSt"
      }
    },
    {
      "cell_type": "code",
      "source": [
        "try:\n",
        "    age=int(input('나이를 입력하세요: '))\n",
        "except: #입력이 숫자가 아니어서 오류 발생할 경우\n",
        "    print('입력이 정확하지 않습니다.')\n",
        "else:\n",
        "    if age <= 18:\n",
        "        print('미성년자는 출입금지입니다.')\n",
        "    else:\n",
        "        print('환영합니다.')"
      ],
      "metadata": {
        "id": "zcXXYrzY-qrr",
        "colab": {
          "base_uri": "https://localhost:8080/"
        },
        "outputId": "a4d101d9-4ee1-45fa-a641-c91ee61e0aa4"
      },
      "execution_count": null,
      "outputs": [
        {
          "output_type": "stream",
          "name": "stdout",
          "text": [
            "나이를 입력하세요: 16\n",
            "미성년자는 출입금지입니다.\n"
          ]
        }
      ]
    },
    {
      "cell_type": "markdown",
      "source": [
        "# ***enumerate()***\n",
        "\n",
        "출처 : https://www.daleseo.com/python-enumerate/"
      ],
      "metadata": {
        "id": "HlLrLN6Twwox"
      }
    },
    {
      "cell_type": "markdown",
      "source": [
        "기본적으로 인덱스와 원소로 이루어진 튜플을 만들어줌.\n"
      ],
      "metadata": {
        "id": "rJX7XJIUw199"
      }
    },
    {
      "cell_type": "code",
      "execution_count": null,
      "metadata": {
        "colab": {
          "base_uri": "https://localhost:8080/"
        },
        "id": "7y8lAYj1wfXi",
        "outputId": "16475531-01fb-455f-c151-4ecc7da2aa0f"
      },
      "outputs": [
        {
          "output_type": "stream",
          "name": "stdout",
          "text": [
            "(0, 'A')\n",
            "(1, 'B')\n",
            "(2, 'C')\n"
          ]
        }
      ],
      "source": [
        "for entry in enumerate(['A', 'B', 'C']):\n",
        "    print(entry)"
      ]
    },
    {
      "cell_type": "markdown",
      "source": [
        "인덱스와 원소를 각각 다른 변수에 할당하고 싶다면 인자 풀기(unpacking)을 해줘야 함.\n",
        "\n",
        "\n",
        "```\n",
        "#참고로 각 변수에 인자풀기(unpacking)로 나눠서 할당 가능\n",
        "for i, j, k in [['a', 'b', 'c'], ['d', 'e', 'f']]:\n",
        "    print(i, j, k)\n",
        "#결과\n",
        "#a b c\n",
        "#d e f\n",
        "```\n",
        "\n",
        "\n",
        "\n",
        "\n",
        "\n"
      ],
      "metadata": {
        "id": "h5gdeIVLwjNu"
      }
    },
    {
      "cell_type": "code",
      "source": [
        "for i, letter in enumerate(['A', 'B', 'C']):\n",
        "     print(i, letter)"
      ],
      "metadata": {
        "colab": {
          "base_uri": "https://localhost:8080/"
        },
        "id": "i7WM6D2Txz1L",
        "outputId": "b8027b95-1624-4708-8752-3474165dac4a"
      },
      "execution_count": null,
      "outputs": [
        {
          "output_type": "stream",
          "name": "stdout",
          "text": [
            "0 A\n",
            "1 B\n",
            "2 C\n"
          ]
        }
      ]
    },
    {
      "cell_type": "markdown",
      "source": [
        "시작 인덱스 변경"
      ],
      "metadata": {
        "id": "pha3kUmoyFTE"
      }
    },
    {
      "cell_type": "code",
      "source": [
        "#enumerate() 함수를 호출할 때 start 인자에 시작하고 싶은 숫자를 넘기기기\n",
        "for i, letter in enumerate(['A', 'B', 'C'], start=1):\n",
        "     print(i, letter)"
      ],
      "metadata": {
        "colab": {
          "base_uri": "https://localhost:8080/"
        },
        "id": "saAkfEUXyHRg",
        "outputId": "e9f184e7-056a-49f5-c4d7-fba4b3d45875"
      },
      "execution_count": null,
      "outputs": [
        {
          "output_type": "stream",
          "name": "stdout",
          "text": [
            "1 A\n",
            "2 B\n",
            "3 C\n"
          ]
        }
      ]
    },
    {
      "cell_type": "markdown",
      "source": [
        "***enumerate() 자체는?***\n",
        "\n"
      ],
      "metadata": {
        "id": "2aPSsU7tyvIg"
      }
    },
    {
      "cell_type": "markdown",
      "source": [
        "파이썬에서 for 문은 내부적으로 in 뒤에 오는 목록을 대상으로 계속해서 next() 함수를 호출하고 있다고 생각할 수 있다.\n",
        "\n",
        "일반 리스트를 iter() 함수에 넘겨 반복자(iterator)로 만든 후 next() 함수를 호출해보면 원소들이 차례로 얻어진다."
      ],
      "metadata": {
        "id": "gkSsURinzF7y"
      }
    },
    {
      "cell_type": "code",
      "source": [
        "iter_letters = iter(['A', 'B', 'C'])\n",
        "print(next(iter_letters))\n",
        "print(next(iter_letters))\n",
        "next(iter_letters)"
      ],
      "metadata": {
        "colab": {
          "base_uri": "https://localhost:8080/",
          "height": 74
        },
        "id": "vvI9VA8fzNnm",
        "outputId": "297d504a-3cab-42c7-847c-eeb8e5a8c8c2"
      },
      "execution_count": null,
      "outputs": [
        {
          "output_type": "stream",
          "name": "stdout",
          "text": [
            "A\n",
            "B\n"
          ]
        },
        {
          "output_type": "execute_result",
          "data": {
            "text/plain": [
              "'C'"
            ],
            "application/vnd.google.colaboratory.intrinsic+json": {
              "type": "string"
            }
          },
          "metadata": {},
          "execution_count": 9
        }
      ]
    },
    {
      "cell_type": "markdown",
      "source": [
        "enumerate() 함수를 호출한 결과를 대상으로 next() 함수를 계속해서 호출해보면, 인덱스와 원소의 쌍이 튜플(tuple)의 형태로 차례로 얻어진다."
      ],
      "metadata": {
        "id": "zWooW4YKzzlX"
      }
    },
    {
      "cell_type": "code",
      "source": [
        "enumerate_letters = enumerate(['A', 'B', 'C'])\n",
        "next(enumerate_letters)"
      ],
      "metadata": {
        "colab": {
          "base_uri": "https://localhost:8080/"
        },
        "id": "tLqghDxzzsas",
        "outputId": "7f7ad853-b51b-420b-f1c8-0da210248be9"
      },
      "execution_count": null,
      "outputs": [
        {
          "output_type": "execute_result",
          "data": {
            "text/plain": [
              "(0, 'A')"
            ]
          },
          "metadata": {},
          "execution_count": 10
        }
      ]
    },
    {
      "cell_type": "markdown",
      "source": [
        "결론 : enumerate() 함수는 인자로 넘어온 목록을 기준으로 인덱스와 원소를 차례대로 접근하게 해주는 반복자(iterator) 객체를 반환해주는 함수이다."
      ],
      "metadata": {
        "id": "UXS9sRY32bKQ"
      }
    },
    {
      "cell_type": "code",
      "source": [
        "list(enumerate(['A', 'B', 'C']))"
      ],
      "metadata": {
        "colab": {
          "base_uri": "https://localhost:8080/"
        },
        "id": "1FShGB3s2dWX",
        "outputId": "4892d6e6-a5d6-4c13-885c-4b76277b1878"
      },
      "execution_count": null,
      "outputs": [
        {
          "output_type": "execute_result",
          "data": {
            "text/plain": [
              "[(0, 'A'), (1, 'B'), (2, 'C')]"
            ]
          },
          "metadata": {},
          "execution_count": 11
        }
      ]
    },
    {
      "cell_type": "markdown",
      "source": [
        "# ***numpy로 배열 기능 사용하기***"
      ],
      "metadata": {
        "id": "0GER_B_ACcq7"
      }
    },
    {
      "cell_type": "markdown",
      "source": [
        "출처: https://datascienceschool.net/01%20python/03.01%20%EB%84%98%ED%8C%8C%EC%9D%B4%20%EB%B0%B0%EC%97%B4.html"
      ],
      "metadata": {
        "id": "jTqhJZ59yOjc"
      }
    },
    {
      "cell_type": "markdown",
      "source": [
        "기본적으로 파이썬은 리스트를 제공한다. <br>\n",
        "리스트는 데이터 자료형이 달라도 쓸 수 있고, 원소의 개수를 유동적으로 사용할 수 있다. 하지만 리스트의 단점은 속도가 느리고 메모리를 많아 차지한다. <br>\n",
        "numpy를 사용하면 배열(array)를 사용할 수 있는데, C 언어로 구현된 내부 반복문을 사용하기 때문에 파이썬 반복문에 비해 속도가 빠르다. <br>\n",
        "numpy의 **array**함수를 사용하면 **ndarray** 클래스 객체(=배열)로 변환해준다. "
      ],
      "metadata": {
        "id": "6yTDXlrSypMZ"
      }
    },
    {
      "cell_type": "code",
      "source": [
        "import numpy as np\n",
        "\n",
        "arr = np.array([0,0,0,0,0,0,0,0,0,0,1,1,1,1,1,1,1,1,1,1,1,1,1,2,2,2,2])\n",
        "\n",
        "print(\"배열 요소 중 0의 개수는 :\", len(arr[arr == 0]))\n",
        "print(\"배열 요소 중 1의 개수는 :\", len(arr[arr == 1]))\n",
        "print(\"배열 요소 중 2의 개수는 :\", len(arr[arr == 2]))"
      ],
      "metadata": {
        "colab": {
          "base_uri": "https://localhost:8080/"
        },
        "id": "jBOcNeRDl0-M",
        "outputId": "46f14fe8-8c4b-4a0d-c1f7-44e643e5230d"
      },
      "execution_count": null,
      "outputs": [
        {
          "output_type": "stream",
          "name": "stdout",
          "text": [
            "배열 요소 중 0의 개수는 : 10\n",
            "배열 요소 중 1의 개수는 : 13\n",
            "배열 요소 중 2의 개수는 : 4\n"
          ]
        }
      ]
    },
    {
      "cell_type": "markdown",
      "source": [
        "일반적인 파이썬의 리스트에서 요소의 개수를 셀 때는 list.count(값) 방법으로 셀 수 있다. <br>\n",
        "하지만 np.array로 배열을 만들어주게 되면, 배열에는 count 기능이 없어서 할 수 없다고 오류가 뜨는데 이 때는 len(array[array == 값])의 방법으로 셀 수 있다. "
      ],
      "metadata": {
        "id": "RAwaYFy6ma5j"
      }
    },
    {
      "cell_type": "markdown",
      "source": [
        "# ***pickle이란?***\n",
        "출처 : https://korbillgates.tistory.com/173\n"
      ],
      "metadata": {
        "id": "0ZmyK1RFwVhn"
      }
    },
    {
      "cell_type": "markdown",
      "source": [
        "\n",
        "텍스트 상태의 데이터가 아닌 파이썬 객체 자체를 파일로 저장하는 것이다. 미리 필요한 부분을 딕셔너리 던, 리스트 던, 튜플 등으로 저장을 해놓고(이러한 형태는 파일로 바로 저장할 수 없으니), pickle 모듈을 사용해 그 객체 자체를 바이너리로 저장하는 것이다. 불러올 때도 그 자체로 불러오므로 속도가 빨라진다."
      ],
      "metadata": {
        "id": "-MPlu1Nkwi6A"
      }
    },
    {
      "cell_type": "markdown",
      "source": [
        "np.load() 옵션 중 allow_pickle가 디폴트가 False이므로 이를 True로 설정해주어야 한다.  https://numpy.org/devdocs/reference/generated/numpy.load.html </br>\n",
        "그러지 않으면 ValueError: Object arrays cannot be loaded when allow_pickle=False 에러가 발생할 수 있다. https://kosb.tistory.com/77 "
      ],
      "metadata": {
        "id": "Uw0FhMjgw39p"
      }
    },
    {
      "cell_type": "markdown",
      "source": [
        "# ***bincount()***\n",
        "출처 : https://nurilee.com/2020/05/10/bincount-%EB%9E%80/\n"
      ],
      "metadata": {
        "id": "UEe27NU3-yzj"
      }
    },
    {
      "cell_type": "markdown",
      "source": [
        "0부터 가장 큰 값까지 각각의 발생 빈도수를 리스트로 반환한다. 0의 빈도는 인덱스 0에, 1의 빈도는 인덱스 1에 저장되는 형식."
      ],
      "metadata": {
        "id": "qOjiid3-_JfE"
      }
    },
    {
      "cell_type": "code",
      "source": [
        "import numpy as np\n",
        "l = [3, 4, 1, 1, 2, 2, 2, 3, 3, 5]\n",
        "print(np.bincount(l))"
      ],
      "metadata": {
        "colab": {
          "base_uri": "https://localhost:8080/"
        },
        "id": "jPLbFcMk-4b0",
        "outputId": "310f3d30-6ccb-413d-9291-47e1ed4817ae"
      },
      "execution_count": null,
      "outputs": [
        {
          "output_type": "stream",
          "name": "stdout",
          "text": [
            "[0 2 3 3 1 1]\n"
          ]
        }
      ]
    },
    {
      "cell_type": "markdown",
      "source": [
        "# ***파이썬 버전 확인***\n",
        "출처 : https://bskyvision.com/entry/python-%ED%8C%8C%EC%9D%B4%EC%8D%AC-%EB%B2%84%EC%A0%84-%ED%99%95%EC%9D%B8%ED%95%98%EB%8A%94-%EC%BD%94%EB%93%9C"
      ],
      "metadata": {
        "id": "f8P9y9C-KQpd"
      }
    },
    {
      "cell_type": "code",
      "source": [
        "import sys\n",
        "print(sys.version)"
      ],
      "metadata": {
        "colab": {
          "base_uri": "https://localhost:8080/"
        },
        "id": "d4sEfxYtJgJG",
        "outputId": "018a4343-0e62-42ce-a1b2-b0dcfcaf7078"
      },
      "execution_count": null,
      "outputs": [
        {
          "output_type": "stream",
          "name": "stdout",
          "text": [
            "3.8.10 (default, Nov 14 2022, 12:59:47) \n",
            "[GCC 9.4.0]\n"
          ]
        }
      ]
    },
    {
      "cell_type": "markdown",
      "source": [
        "# ***가중치 (model.fit() 함수의 class_weight 옵션)***\n",
        "참고 문헌 : 텐서플로2로 배우는 금융 머신러닝, 이사야 헐, 에이콘출판"
      ],
      "metadata": {
        "id": "Dew0zSTF9H_K"
      }
    },
    {
      "cell_type": "markdown",
      "source": [
        "이미지 분류에서 두 데이터 양 사이의 차이가 클 경우 학습이 제대로 이루어지지 않을 수 있다. 따라서 이를 방지하기 위해 가중치를 부여하여 두 데이터 간의 비율을 맞춰주는 역할을 한다고 할 수 있다.\n",
        "\n",
        "가중치를 계산하는 법은 간단하다. y_train은 0과 1로 이루어진 인덱스를 저장한 리스트이므로 numpy 모듈을 사용해 평균을 구해주면 인덱스 1인 데이터의 비율을 구할 수 있게 된다. 이를 인덱스 0의 가중치로 부여하는 것이다. 반대로 인덱스 0인 데이터의 비율은 1에서 앞서 구한 인덱스 1인 데이터의 비율을 빼면 된다. 이를 인덱스 1의 가중치로 부여하는 것이다. 이 내용을 코드로 나타내면 다음과 같다."
      ],
      "metadata": {
        "id": "jxQ2EQLx9VKT"
      }
    },
    {
      "cell_type": "code",
      "source": [
        "w0 = np.mean(y_train)\n",
        "w1 = 1 - w0\n",
        "class_weights = {0: w0, 1: w1}"
      ],
      "metadata": {
        "id": "70OEv1qh9ZV5"
      },
      "execution_count": null,
      "outputs": []
    }
  ]
}