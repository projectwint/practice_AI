{
  "nbformat": 4,
  "nbformat_minor": 0,
  "metadata": {
    "colab": {
      "provenance": [],
      "mount_file_id": "11N17JByvjfaivq3Y2zFuvDxcIVhpJ7PW",
      "authorship_tag": "ABX9TyMw1Pwkd6NkzZ/o94Bf93Lu",
      "include_colab_link": true
    },
    "kernelspec": {
      "name": "python3",
      "display_name": "Python 3"
    },
    "language_info": {
      "name": "python"
    }
  },
  "cells": [
    {
      "cell_type": "markdown",
      "metadata": {
        "id": "view-in-github",
        "colab_type": "text"
      },
      "source": [
        "<a href=\"https://colab.research.google.com/github/projectwint/practice_AI/blob/main/ImageDataGenerator_%EC%8B%A4%ED%96%89%EC%9A%A9.ipynb\" target=\"_parent\"><img src=\"https://colab.research.google.com/assets/colab-badge.svg\" alt=\"Open In Colab\"/></a>"
      ]
    },
    {
      "cell_type": "code",
      "execution_count": null,
      "metadata": {
        "colab": {
          "base_uri": "https://localhost:8080/"
        },
        "id": "QkeYQxa5Mcco",
        "outputId": "373abae3-2413-44bb-f5a0-0d1e09de92b3"
      },
      "outputs": [
        {
          "output_type": "stream",
          "name": "stdout",
          "text": [
            "Mounted at /gdrive\n"
          ]
        }
      ],
      "source": [
        "from google.colab import drive\n",
        "drive.mount('/gdrive', force_remount=True)"
      ]
    },
    {
      "cell_type": "markdown",
      "source": [
        "출처 : https://sevillabk.github.io/image-generator/ </br>\n",
        "https://velog.io/@ym980118/%EB%94%A5%EB%9F%AC%EB%8B%9D-Keras-ImageDataGenerator%EB%A5%BC-%EC%9D%B4%EC%9A%A9%ED%95%9C-%EC%9D%B4%EB%AF%B8%EC%A7%80-%EB%8D%B0%EC%9D%B4%ED%84%B0-%EC%A6%9D%EA%B0%95-Data-Augmentation"
      ],
      "metadata": {
        "id": "5rBnnI3tbeCa"
      }
    },
    {
      "cell_type": "code",
      "source": [
        "import glob\n",
        "img_dir = '/content/drive/MyDrive/2차_편집/물체_2_사진/pixabay' #사진을 가져올 폴더명\n",
        "files = glob.glob(img_dir +'/**' + '/*.jpg', recursive=True) #폴더에 저장된 모든 jpg 파일의 리스트(하위 폴더까지 탐색)\n",
        "\n",
        "print(len(files))"
      ],
      "metadata": {
        "colab": {
          "base_uri": "https://localhost:8080/"
        },
        "id": "UYhkNcwNviP0",
        "outputId": "72dcb1d9-58a4-4e99-bcc0-bd46ba814a50"
      },
      "execution_count": null,
      "outputs": [
        {
          "output_type": "stream",
          "name": "stdout",
          "text": [
            "155\n"
          ]
        }
      ]
    },
    {
      "cell_type": "markdown",
      "source": [
        "Case1 파일 개수: 실제 155, glob한 개수 155<br>\n",
        "Case2 파일 개수: 실제 25, glob한 개수 25<br>\n",
        "Case3 파일 개수: 실제 74, glob한 개수 74<br>\n",
        "Case5 파일 개수: 실제 125, glob된 개수 125<br>\n",
        "Case6 파일 개수: 실제 56, glob된 개수 56<br>\n",
        "Case7 파일 개수: 실제 163, glob한 개수 163"
      ],
      "metadata": {
        "id": "Vz9DfbA6vs5c"
      }
    },
    {
      "cell_type": "code",
      "source": [
        "from tensorflow.keras.preprocessing.image import ImageDataGenerator, img_to_array, load_img\n",
        "import glob\n",
        "import numpy as np\n",
        "\n",
        "np.random.seed(5) # 랜덤시드 고정시키기\n",
        "\n",
        "img_dir = '/content/drive/MyDrive/2차_편집/물체_1_사진/pixabay_temp' #사진을 가져올 폴더명\n",
        "files = glob.glob(img_dir +'/**' + '/*.jpg', recursive=True) #폴더에 저장된 모든 jpg 파일의 리스트(하위 폴더까지 탐색)\n",
        "\n",
        "#좌우반전, -15 ~ +15 사이 임의 각도로 회전, 밝기 조정, 확대\n",
        "data_generator = ImageDataGenerator(horizontal_flip = True,\n",
        "                                    rotation_range=15.0,\n",
        "                                    brightness_range=(0.1, 0.9),\n",
        "                                    zoom_range=[0.5, 0.9])\n",
        "\n",
        "for i, f in enumerate(files):\n",
        "    image = load_img(f)\n",
        "\n",
        "    x = img_to_array(image)\n",
        "    x = x.reshape((1,) + x.shape)\n",
        "\n",
        "    i = 0\n",
        "    for batch in data_generator.flow(x, batch_size = 1, save_to_dir = '/content/drive/MyDrive/water/temp2',\n",
        "                                     save_prefix = 'water_pixa', save_format='jpg'):\n",
        "        i += 1\n",
        "        if i >= 10: #한 사진당 10회 반복시 종료\n",
        "            break"
      ],
      "metadata": {
        "id": "OAKNL-4IIOxX"
      },
      "execution_count": null,
      "outputs": []
    },
    {
      "cell_type": "markdown",
      "source": [
        "pixabay 폴더에서 원본이 155장, 따라서 1550장이 나와야하는데 1422장이 나왔다.<br>\n",
        "같은 방법으로 unsplash 폴더에서 25장이라, 250장이어야하는데 246장이 나왔고, 직접 찍은 사진에서는 74장이라 740장이 나와야하는데 708장이 나왔다. \n",
        "<br>\n",
        "<br>\n",
        "**[ 손실률 ]**\n",
        "<br>\n",
        "Case1. (1550 - 1422) / 1550 * 100% = 8.26% <br>\n",
        "Case2. (250 - 246) / 250 = 1.6%<br>\n",
        "Case3. (740 - 708) / 740 = 4.32% <br>\n",
        "Case4. (100 - 98) / 100 = 2%<br>\n",
        "Case5. (1250 - 1168) / 1250 = 6.56%<br>\n",
        "Case6. (560 - 543) / 560 = 3.04%<br>\n",
        "Case7. (1630 - 1484) / 1630 = 8.96%<br>\n",
        "<br>\n",
        "또한, 맨 처음에 일괄적으로 254장을 실행시켰을 때는 1340장으로 손실률이 매우 컸다. 이때를 제외하면, 손실률과 실행시킬 때 넣는 파일의 개수는 (정확히 비례하지는 않지만) 대략적으로 비례하는 결과를 얻었다."
      ],
      "metadata": {
        "id": "5vNYz3PEMHYJ"
      }
    },
    {
      "cell_type": "code",
      "source": [
        "!sudo apt-get install -y fonts-nanum\n",
        "!sudo fc-cache -fv\n",
        "!rm ~/.cache/matplotlib -rf"
      ],
      "metadata": {
        "id": "U1e5Z75NuaNW"
      },
      "execution_count": null,
      "outputs": []
    },
    {
      "cell_type": "code",
      "source": [
        "import matplotlib.pyplot as plt\n",
        "import numpy as np\n",
        "\n",
        "x = [1550, 250, 740, 100, 1250, 560, 1630] #기대값\n",
        "y = [8.26, 1.6, 4.32, 2, 6.56, 3.04, 8.96] #기대값에 대응하는 손실률\n",
        "\n",
        "x_sorted = np.sort(x)\n",
        "x_sort_index = np.argsort(x)\n",
        "y_sorted_by_x = [y[i] for i in x_sort_index] #x를 정렬한 인덱스를 기준으로 정렬\n",
        "\n",
        "fig, ax = plt.subplots()\n",
        "ax.plot(x_sorted, y_sorted_by_x)\n",
        "\n",
        "plt.rcParams['font.family'] = 'NanumBarunGothic'\n",
        "plt.rcParams['axes.unicode_minus'] = False\n",
        "label = ['손실률']\n",
        "plt.legend(label)\n",
        "\n",
        "plt.show()"
      ],
      "metadata": {
        "colab": {
          "base_uri": "https://localhost:8080/",
          "height": 265
        },
        "id": "ZExScIfJt3Mn",
        "outputId": "aa5be035-86b6-4cb1-9c1f-878b907ba98f"
      },
      "execution_count": null,
      "outputs": [
        {
          "output_type": "display_data",
          "data": {
            "text/plain": [
              "<Figure size 432x288 with 1 Axes>"
            ],
            "image/png": "[encoded data removed]"
          },
          "metadata": {
            "needs_background": "light"
          }
        }
      ]
    },
    {
      "cell_type": "markdown",
      "source": [
        "원인을 찾아본 결과 파일명이 랜덤으로 생성되면서 데이터의 수가 늘어날수록 파일명이 중복될 확률이 높아져 손실률이 높아지는 문제가 발생했다는 것을 알게 되었다. 따라서 파일명의 접두사에 flag라는 변수를 추가하여 파일명의 중복 가능성을 0에 가깝게 낮추는 방식으로 수정하였다."
      ],
      "metadata": {
        "id": "ES0gDzz7AECN"
      }
    },
    {
      "cell_type": "code",
      "source": [
        "from tensorflow.keras.preprocessing.image import ImageDataGenerator, img_to_array, load_img\n",
        "import glob\n",
        "import numpy as np\n",
        "\n",
        "img_dir = '/content/drive/MyDrive/2차_편집/물체_2_사진' #사진을 가져올 폴더명\n",
        "save_to_dir = '/content/drive/MyDrive/ground' #증가된 사진을 저장할 폴더명\n",
        "files = glob.glob(img_dir +'/**' + '/*.jpg', recursive=True) #폴더에 저장된 모든 jpg 파일의 리스트(하위 폴더까지 탐색)\n",
        "\n",
        "#좌우반전, -15 ~ +15 사이 임의 각도로 회전, 밝기 조정, 확대\n",
        "data_generator = ImageDataGenerator(horizontal_flip = True,\n",
        "                                    rotation_range=15.0,\n",
        "                                    brightness_range=(0.1, 0.9),\n",
        "                                    zoom_range=[0.5, 0.9])\n",
        "\n",
        "flag = 0 #파일명에 매길 숫자 변수(파일명 중복으로 인한 손실 방지)\n",
        "for i, f in enumerate(files):\n",
        "    image = load_img(f)\n",
        "\n",
        "    x = img_to_array(image)\n",
        "    x = x.reshape((1,) + x.shape)\n",
        "\n",
        "    i = 0\n",
        "    flag += 1\n",
        "    for batch in data_generator.flow(x, batch_size = 1, save_to_dir = save_to_dir,\n",
        "                                     save_prefix = 'ground_' + str(flag), save_format='jpg'):\n",
        "        i += 1\n",
        "        if i >= 10: #한 사진당 10회 반복시 종료\n",
        "            break\n",
        "\n",
        "augmented_files = glob.glob(save_to_dir +'/**' + '/*.jpg', recursive=True) #증가된 파일 리스트\n",
        "\n",
        "print(\"기존 데이터수 :\", len(files), \"\\n증가된 데이터수 :\", len(augmented_files))"
      ],
      "metadata": {
        "id": "BbGUj7ija--_"
      },
      "execution_count": null,
      "outputs": []
    }
  ]
}