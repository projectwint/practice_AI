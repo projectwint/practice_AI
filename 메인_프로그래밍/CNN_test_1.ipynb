{
  "nbformat": 4,
  "nbformat_minor": 0,
  "metadata": {
    "colab": {
      "provenance": [],
      "mount_file_id": "1DrSw74pSWBtyR2hZMSxbPK64RtivRmIh",
      "authorship_tag": "ABX9TyMt43SjJeOQ4oq3BPBk1uYx",
      "include_colab_link": true
    },
    "kernelspec": {
      "name": "python3",
      "display_name": "Python 3"
    },
    "language_info": {
      "name": "python"
    }
  },
  "cells": [
    {
      "cell_type": "markdown",
      "metadata": {
        "id": "view-in-github",
        "colab_type": "text"
      },
      "source": [
        "<a href=\"https://colab.research.google.com/github/projectwint/practice_AI/blob/main/CNN_test_1.ipynb\" target=\"_parent\"><img src=\"https://colab.research.google.com/assets/colab-badge.svg\" alt=\"Open In Colab\"/></a>"
      ]
    },
    {
      "cell_type": "code",
      "execution_count": null,
      "metadata": {
        "id": "G7SW_wOapraN"
      },
      "outputs": [],
      "source": [
        "from keras import Sequential\n",
        "from keras.layers import Conv2D, MaxPooling2D, Dense, Flatten, Dropout\n",
        "import numpy as np\n",
        "\n",
        "image_w = 128\n",
        "image_h = 128\n",
        "\n",
        "#이미지 불러오기\n",
        "X_train, X_test, y_train, y_test = np.load('/content/drive/MyDrive/train_set.npy', allow_pickle=True)\n",
        "X_train = X_train.astype(float) #type 변환\n",
        "X_test = X_test.astype(float)\n",
        "\n",
        "#가중치 계산 (두 데이터의 양이 같지 않으므로 비율을 맞춰줌) - 요건 파이썬 함수 노트 파일 밑에 자세히 따로 적음\n",
        "w0 = np.mean(y_train) #전체를 1로 볼 때 index 1의 비율\n",
        "w1 = 1 - w0 #index 0의 비율\n",
        "class_weights = {0: w0, 1: w1} #가중치로 부여\n",
        "\n",
        "#CNN에서 컨볼루션 레이어를 거치면 주요 특징만 추출돼서 학습됨.\n",
        "model = Sequential() #순차 모델 정의\n",
        "model.add(Conv2D(32, (3, 3), padding = \"same\", input_shape = (image_w, image_h, 3), activation = \"relu\"))\n",
        "#Conv2D를 이용\n",
        "#3x3 크기의 컨볼루션 레이어를 32개의 필터수만큼 처음에 생성한다.\n",
        "#입력형태(input_shpae)는 128 x 128이기 때문에 (128, 128, 3)의 tuple 값을 가짐\n",
        "#활성화 함수는 relu를 사용\n",
        "model.add(MaxPooling2D(pool_size = (2, 2)))\n",
        "#MaxPooling2D: 주요값을 뽑아내서 작은 출력값을 만들고, 사소한 변화는 무시한다.\n",
        "\n",
        "model.add(Conv2D(128, (3, 3), padding = \"same\", activation = \"relu\"))\n",
        "model.add(MaxPooling2D(pool_size = (2, 2)))\n",
        "model.add(Dropout(0.25))\n",
        "\n",
        "model.add(Conv2D(128, (3, 3), padding = \"same\", activation = \"relu\"))\n",
        "model.add(MaxPooling2D(pool_size = (2, 2)))\n",
        "model.add(Dropout(0.25))\n",
        "\n",
        "model.add(Flatten()) #특징 맵 평탄화\n",
        "model.add(Dense(256, activation = \"relu\"))\n",
        "model.add(Dropout(0.5))\n",
        "model.add(Dense(1, activation = \"sigmoid\")) #출력 계층 정의\n",
        "\n",
        "model.compile(loss='binary_crossentropy', optimizer='adam', metrics=['accuracy'])"
      ]
    },
    {
      "cell_type": "code",
      "source": [
        "from google.colab import drive\n",
        "drive.mount('/content/drive')"
      ],
      "metadata": {
        "colab": {
          "base_uri": "https://localhost:8080/"
        },
        "id": "QYib4NC5A8XD",
        "outputId": "180ff9f5-916a-46b7-d722-5026712a2386"
      },
      "execution_count": null,
      "outputs": [
        {
          "output_type": "stream",
          "name": "stdout",
          "text": [
            "Drive already mounted at /content/drive; to attempt to forcibly remount, call drive.mount(\"/content/drive\", force_remount=True).\n"
          ]
        }
      ]
    },
    {
      "cell_type": "code",
      "source": [
        "import os\n",
        "from keras.callbacks import EarlyStopping, ModelCheckpoint\n",
        "\n",
        "#overfitting 방지 코드\n",
        "model_dir = '/content/drive/MyDrive/model'\n",
        "\n",
        "if not os.path.exists(model_dir): #폴더명이 없으면 폴더 생성\n",
        "    os.mkdir(model_dir)\n",
        "model_path = model_dir + \"/ground_water_classify.model\"\n",
        "\n",
        "checkpoint = ModelCheckpoint(filepath = model_path, monitor = 'val_loss', verbos = 1, save_best_only = True) #val_loss 기준으로 체크(monitor 옵션)\n",
        "early_stopping = EarlyStopping(monitor = 'val_loss', patience = 5) #val_loss값이 5번(epoch 기준) 연속 최저치를 못 찍으면 종료\n",
        "\n",
        "#model.fit() 결과를 history 변수에 저장(그래프 그리려고)\n",
        "history = model.fit(X_train, y_train, epochs=100, class_weight = class_weights, batch_size=128, validation_split = 0.20, callbacks = [checkpoint, early_stopping])\n",
        "#epochs-데이터 전부를 한 번 학습시키는 것을 몇 번 할 건지\n",
        "#class_weight-가중치\n",
        "#batch_size-데이터를 어느 정도씩 묶어서 학습시킬 건지(많이 묶으면 [===] 앞에 34/34 적힌 부분의 숫자가 작아지고 적게 묶으면 숫자 커짐)\n",
        "#validation_spoit-확인용 데이터를 빼놓는 비율. 성능이 어느 정도인지 좋은지 한 epoch가 끝날 때마다 확인하는 용도. 얘로 확인한 값은 'val_' 접두사 붙음.\n",
        "#callbacks-앞서 한 overfitting 방지 코드에 관련 변수를 집어넣는 옵션\n",
        "\n",
        "#accuracy는 정확도이므로 높을수록 좋고(최대 1), loss는 정답과 차이가 얼마나 나는지에 대한 수(0.x로 나온 출력에서 0 또는 1로 바꿀 때의 차이를 말하는 듯)이므로 낮을 수록 좋음"
      ],
      "metadata": {
        "colab": {
          "base_uri": "https://localhost:8080/"
        },
        "id": "cHyNWO5IqMGd",
        "outputId": "a2aea3bc-cda0-4129-8d5c-94a0533e4ae9"
      },
      "execution_count": null,
      "outputs": [
        {
          "output_type": "stream",
          "name": "stdout",
          "text": [
            "Epoch 1/100\n",
            "34/34 [==============================] - ETA: 0s - loss: 37.0003 - accuracy: 0.7846"
          ]
        },
        {
          "output_type": "stream",
          "name": "stderr",
          "text": [
            "WARNING:absl:Found untraced functions such as _jit_compiled_convolution_op, _jit_compiled_convolution_op, _jit_compiled_convolution_op, _update_step_xla while saving (showing 4 of 4). These functions will not be directly callable after loading.\n"
          ]
        },
        {
          "output_type": "stream",
          "name": "stdout",
          "text": [
            "\b\b\b\b\b\b\b\b\b\b\b\b\b\b\b\b\b\b\b\b\b\b\b\b\b\b\b\b\b\b\b\b\b\b\b\b\b\b\b\b\b\b\b\b\b\b\b\b\b\b\b\b\b\b\b\b\b\b\b\b\b\b\b\b\b\b\b\b\b\b\b\b\b\b\b\b\b\b\b\b\b\b\b\r34/34 [==============================] - 322s 9s/step - loss: 37.0003 - accuracy: 0.7846 - val_loss: 0.5759 - val_accuracy: 0.7695\n",
            "Epoch 2/100\n",
            "34/34 [==============================] - 316s 9s/step - loss: 0.1133 - accuracy: 0.9138 - val_loss: 0.6135 - val_accuracy: 0.5446\n",
            "Epoch 3/100\n",
            "34/34 [==============================] - 313s 9s/step - loss: 0.0966 - accuracy: 0.9222 - val_loss: 0.6074 - val_accuracy: 0.5084\n",
            "Epoch 4/100\n",
            "34/34 [==============================] - ETA: 0s - loss: 0.0722 - accuracy: 0.9366"
          ]
        },
        {
          "output_type": "stream",
          "name": "stderr",
          "text": [
            "WARNING:absl:Found untraced functions such as _jit_compiled_convolution_op, _jit_compiled_convolution_op, _jit_compiled_convolution_op, _update_step_xla while saving (showing 4 of 4). These functions will not be directly callable after loading.\n"
          ]
        },
        {
          "output_type": "stream",
          "name": "stdout",
          "text": [
            "\b\b\b\b\b\b\b\b\b\b\b\b\b\b\b\b\b\b\b\b\b\b\b\b\b\b\b\b\b\b\b\b\b\b\b\b\b\b\b\b\b\b\b\b\b\b\b\b\b\b\b\b\b\b\b\b\b\b\b\b\b\b\b\b\b\b\b\b\b\b\b\b\b\b\b\b\b\b\b\b\b\b\r34/34 [==============================] - 343s 10s/step - loss: 0.0722 - accuracy: 0.9366 - val_loss: 0.3111 - val_accuracy: 0.8597\n",
            "Epoch 5/100\n",
            "34/34 [==============================] - ETA: 0s - loss: 0.0656 - accuracy: 0.9466"
          ]
        },
        {
          "output_type": "stream",
          "name": "stderr",
          "text": [
            "WARNING:absl:Found untraced functions such as _jit_compiled_convolution_op, _jit_compiled_convolution_op, _jit_compiled_convolution_op, _update_step_xla while saving (showing 4 of 4). These functions will not be directly callable after loading.\n"
          ]
        },
        {
          "output_type": "stream",
          "name": "stdout",
          "text": [
            "\b\b\b\b\b\b\b\b\b\b\b\b\b\b\b\b\b\b\b\b\b\b\b\b\b\b\b\b\b\b\b\b\b\b\b\b\b\b\b\b\b\b\b\b\b\b\b\b\b\b\b\b\b\b\b\b\b\b\b\b\b\b\b\b\b\b\b\b\b\b\b\b\b\b\b\b\b\b\b\b\b\b\r34/34 [==============================] - 316s 9s/step - loss: 0.0656 - accuracy: 0.9466 - val_loss: 0.2545 - val_accuracy: 0.8587\n",
            "Epoch 6/100\n",
            "34/34 [==============================] - ETA: 0s - loss: 0.0567 - accuracy: 0.9521"
          ]
        },
        {
          "output_type": "stream",
          "name": "stderr",
          "text": [
            "WARNING:absl:Found untraced functions such as _jit_compiled_convolution_op, _jit_compiled_convolution_op, _jit_compiled_convolution_op, _update_step_xla while saving (showing 4 of 4). These functions will not be directly callable after loading.\n"
          ]
        },
        {
          "output_type": "stream",
          "name": "stdout",
          "text": [
            "\b\b\b\b\b\b\b\b\b\b\b\b\b\b\b\b\b\b\b\b\b\b\b\b\b\b\b\b\b\b\b\b\b\b\b\b\b\b\b\b\b\b\b\b\b\b\b\b\b\b\b\b\b\b\b\b\b\b\b\b\b\b\b\b\b\b\b\b\b\b\b\b\b\b\b\b\b\b\b\b\b\b\r34/34 [==============================] - 340s 10s/step - loss: 0.0567 - accuracy: 0.9521 - val_loss: 0.2345 - val_accuracy: 0.8885\n",
            "Epoch 7/100\n",
            "34/34 [==============================] - 336s 10s/step - loss: 0.0512 - accuracy: 0.9559 - val_loss: 0.2402 - val_accuracy: 0.8764\n",
            "Epoch 8/100\n",
            "34/34 [==============================] - ETA: 0s - loss: 0.0613 - accuracy: 0.9489"
          ]
        },
        {
          "output_type": "stream",
          "name": "stderr",
          "text": [
            "WARNING:absl:Found untraced functions such as _jit_compiled_convolution_op, _jit_compiled_convolution_op, _jit_compiled_convolution_op, _update_step_xla while saving (showing 4 of 4). These functions will not be directly callable after loading.\n"
          ]
        },
        {
          "output_type": "stream",
          "name": "stdout",
          "text": [
            "\b\b\b\b\b\b\b\b\b\b\b\b\b\b\b\b\b\b\b\b\b\b\b\b\b\b\b\b\b\b\b\b\b\b\b\b\b\b\b\b\b\b\b\b\b\b\b\b\b\b\b\b\b\b\b\b\b\b\b\b\b\b\b\b\b\b\b\b\b\b\b\b\b\b\b\b\b\b\b\b\b\b\r34/34 [==============================] - 314s 9s/step - loss: 0.0613 - accuracy: 0.9489 - val_loss: 0.2114 - val_accuracy: 0.8810\n",
            "Epoch 9/100\n",
            "34/34 [==============================] - ETA: 0s - loss: 0.0403 - accuracy: 0.9633"
          ]
        },
        {
          "output_type": "stream",
          "name": "stderr",
          "text": [
            "WARNING:absl:Found untraced functions such as _jit_compiled_convolution_op, _jit_compiled_convolution_op, _jit_compiled_convolution_op, _update_step_xla while saving (showing 4 of 4). These functions will not be directly callable after loading.\n"
          ]
        },
        {
          "output_type": "stream",
          "name": "stdout",
          "text": [
            "\b\b\b\b\b\b\b\b\b\b\b\b\b\b\b\b\b\b\b\b\b\b\b\b\b\b\b\b\b\b\b\b\b\b\b\b\b\b\b\b\b\b\b\b\b\b\b\b\b\b\b\b\b\b\b\b\b\b\b\b\b\b\b\b\b\b\b\b\b\b\b\b\b\b\b\b\b\b\b\b\b\b\r34/34 [==============================] - 340s 10s/step - loss: 0.0403 - accuracy: 0.9633 - val_loss: 0.1977 - val_accuracy: 0.8894\n",
            "Epoch 10/100\n",
            "34/34 [==============================] - 314s 9s/step - loss: 0.0413 - accuracy: 0.9645 - val_loss: 0.2385 - val_accuracy: 0.8755\n",
            "Epoch 11/100\n",
            "34/34 [==============================] - 324s 10s/step - loss: 0.0448 - accuracy: 0.9631 - val_loss: 0.2194 - val_accuracy: 0.8736\n",
            "Epoch 12/100\n",
            "34/34 [==============================] - ETA: 0s - loss: 0.0336 - accuracy: 0.9714"
          ]
        },
        {
          "output_type": "stream",
          "name": "stderr",
          "text": [
            "WARNING:absl:Found untraced functions such as _jit_compiled_convolution_op, _jit_compiled_convolution_op, _jit_compiled_convolution_op, _update_step_xla while saving (showing 4 of 4). These functions will not be directly callable after loading.\n"
          ]
        },
        {
          "output_type": "stream",
          "name": "stdout",
          "text": [
            "\b\b\b\b\b\b\b\b\b\b\b\b\b\b\b\b\b\b\b\b\b\b\b\b\b\b\b\b\b\b\b\b\b\b\b\b\b\b\b\b\b\b\b\b\b\b\b\b\b\b\b\b\b\b\b\b\b\b\b\b\b\b\b\b\b\b\b\b\b\b\b\b\b\b\b\b\b\b\b\b\b\b\r34/34 [==============================] - 335s 10s/step - loss: 0.0336 - accuracy: 0.9714 - val_loss: 0.1612 - val_accuracy: 0.9210\n",
            "Epoch 13/100\n",
            "34/34 [==============================] - ETA: 0s - loss: 0.0352 - accuracy: 0.9719"
          ]
        },
        {
          "output_type": "stream",
          "name": "stderr",
          "text": [
            "WARNING:absl:Found untraced functions such as _jit_compiled_convolution_op, _jit_compiled_convolution_op, _jit_compiled_convolution_op, _update_step_xla while saving (showing 4 of 4). These functions will not be directly callable after loading.\n"
          ]
        },
        {
          "output_type": "stream",
          "name": "stdout",
          "text": [
            "\b\b\b\b\b\b\b\b\b\b\b\b\b\b\b\b\b\b\b\b\b\b\b\b\b\b\b\b\b\b\b\b\b\b\b\b\b\b\b\b\b\b\b\b\b\b\b\b\b\b\b\b\b\b\b\b\b\b\b\b\b\b\b\b\b\b\b\b\b\b\b\b\b\b\b\b\b\b\b\b\b\b\r34/34 [==============================] - 318s 9s/step - loss: 0.0352 - accuracy: 0.9719 - val_loss: 0.1152 - val_accuracy: 0.9424\n",
            "Epoch 14/100\n",
            "34/34 [==============================] - 335s 10s/step - loss: 0.0369 - accuracy: 0.9726 - val_loss: 0.1267 - val_accuracy: 0.9331\n",
            "Epoch 15/100\n",
            "34/34 [==============================] - 313s 9s/step - loss: 0.0254 - accuracy: 0.9784 - val_loss: 0.1170 - val_accuracy: 0.9507\n",
            "Epoch 16/100\n",
            "34/34 [==============================] - 316s 9s/step - loss: 0.0402 - accuracy: 0.9689 - val_loss: 0.2345 - val_accuracy: 0.8866\n",
            "Epoch 17/100\n",
            "34/34 [==============================] - 313s 9s/step - loss: 0.0304 - accuracy: 0.9758 - val_loss: 0.1939 - val_accuracy: 0.9359\n",
            "Epoch 18/100\n",
            "34/34 [==============================] - 314s 9s/step - loss: 0.0307 - accuracy: 0.9763 - val_loss: 0.3060 - val_accuracy: 0.8903\n"
          ]
        }
      ]
    },
    {
      "cell_type": "code",
      "source": [
        "import matplotlib.pyplot as plt\n",
        "#plt.plot(history.history['loss']) #얘는 원래 있는데 얘 있으면 그래프 진짜 극단적. 근데 지금은 이거 다시 돌리려면 위에 코드부터 돌려야해서 시간 많이 걸림.\n",
        "plt.plot(history.history['val_loss'])\n",
        "plt.plot(history.history['accuracy'])\n",
        "plt.plot(history.history['val_accuracy'])\n",
        "\n",
        "plt.title('model loss')\n",
        "plt.ylabel('loss')\n",
        "plt.xlabel('epoch')\n",
        "plt.legend(['val_loss', 'acc', 'val_acc'], loc = 'upper left')\n",
        "\n",
        "plt. show()"
      ],
      "metadata": {
        "id": "ocGXXv1ZqeGm",
        "colab": {
          "base_uri": "https://localhost:8080/",
          "height": 295
        },
        "outputId": "5c3e5eb7-71a7-4bbf-d245-6f71fb312079"
      },
      "execution_count": null,
      "outputs": [
        {
          "output_type": "display_data",
          "data": {
            "text/plain": [
              "<Figure size 432x288 with 1 Axes>"
            ],
            "image/png": "[encoded data removed]"
          },
          "metadata": {
            "needs_background": "light"
          }
        }
      ]
    },
    {
      "cell_type": "code",
      "source": [
        "model.evaluate(X_test, y_test) \n",
        "#모델 평가-위의 model.fit()함수에서 validation_split 옵션은 epoch 돌리면서 검사하는 거고 이건 애초에 npy 파일 만들 때 따로 빼놓은 test 데이터들로 평가하는 것"
      ],
      "metadata": {
        "id": "RZGdGWujqkew",
        "colab": {
          "base_uri": "https://localhost:8080/"
        },
        "outputId": "ef4ff090-22ca-4e5b-d792-736542672d3d"
      },
      "execution_count": null,
      "outputs": [
        {
          "output_type": "stream",
          "name": "stdout",
          "text": [
            "19/19 [==============================] - 12s 616ms/step - loss: 0.2995 - accuracy: 0.8679\n"
          ]
        },
        {
          "output_type": "execute_result",
          "data": {
            "text/plain": [
              "[0.29948416352272034, 0.8678929805755615]"
            ]
          },
          "metadata": {},
          "execution_count": 6
        }
      ]
    },
    {
      "cell_type": "code",
      "source": [
        "from PIL import Image\n",
        "import os, glob, numpy as np\n",
        "from keras.models import load_model\n",
        "\n",
        "import tensorflow as tf\n",
        "\n",
        "seed = 5\n",
        "np.random.seed(seed)\n",
        "\n",
        "caltech_dir = '/content/drive/MyDrive/결과확인용'\n",
        "\n",
        "image_w = 128\n",
        "image_h = 128\n",
        "\n",
        "pixels = image_h * image_w * 3\n",
        "\n",
        "X = []\n",
        "filenames = []\n",
        "files = glob.glob(caltech_dir + '/**' + \"/*.jpg\", recursive=True)\n",
        "\n",
        "for i , f in enumerate(files):\n",
        "  img = Image.open(f)\n",
        "  img = img.convert(\"RGB\")\n",
        "  img = img.resize((image_w, image_h))\n",
        "  data = np.asarray(img)\n",
        "\n",
        "  X.append(data)\n",
        "  filenames.append(f)\n",
        "\n",
        "X = np.array(X)\n",
        "X = X.astype(float)\n",
        "model = load_model('/content/drive/MyDrive/model/ground_water_classify.model')\n",
        "\n",
        "prediction = model.predict(X)\n",
        "np.set_printoptions(formatter = {'float' : lambda x : \"{0:0.3f}\".format(x)})\n",
        "cnt = 0\n",
        "\n",
        "for i in prediction:\n",
        "  if i >= 0.5:\n",
        "    print(\"해당 \" + filenames[cnt].split(\"/\")[5] +\"/\"+ filenames[cnt].split(\"/\")[6] + \" 이미지는 땅으로 추정됩니다.\")\n",
        "  else:\n",
        "    print(\"해당 \" + filenames[cnt].split(\"/\")[5] +\"/\"+ filenames[cnt].split(\"/\")[6]+ \" 이미지는 물로 추정됩니다.\")\n",
        "  cnt += 1\n"
      ],
      "metadata": {
        "id": "86m9mAZpyaUV",
        "colab": {
          "base_uri": "https://localhost:8080/"
        },
        "outputId": "ed621d8b-3466-4941-d521-5bef49b256df"
      },
      "execution_count": 42,
      "outputs": [
        {
          "output_type": "stream",
          "name": "stdout",
          "text": [
            "1/1 [==============================] - 0s 402ms/step\n",
            "해당 water/hans-isaacson-bkrGahiksWg-unsplash.jpg 이미지는 물로 추정됩니다.\n",
            "해당 water/ivan-bandura-2FEE6BR343k-unsplash.jpg 이미지는 물로 추정됩니다.\n",
            "해당 water/yang-wewe-SPpnLb94qnE-unsplash.jpg 이미지는 물로 추정됩니다.\n",
            "해당 water/marissa-rodriguez-2mKYEVGA4jE-unsplash.jpg 이미지는 물로 추정됩니다.\n",
            "해당 water/gatis-marcinkevics-a5uptAdUmjE-unsplash.jpg 이미지는 물로 추정됩니다.\n",
            "해당 ground/dark-green-g586548231_640.jpg 이미지는 땅으로 추정됩니다.\n",
            "해당 ground/engin-akyurt-jiiI9jPr8Dc-unsplash.jpg 이미지는 땅으로 추정됩니다.\n",
            "해당 ground/dryness-ga02159b2a_640.jpg 이미지는 땅으로 추정됩니다.\n",
            "해당 ground/giovanna-mDLGemGz-5g-unsplash.jpg 이미지는 땅으로 추정됩니다.\n",
            "해당 ground/meritt-thomas-nf-f7bihseQ-unsplash.jpg 이미지는 땅으로 추정됩니다.\n"
          ]
        }
      ]
    }
  ]
}