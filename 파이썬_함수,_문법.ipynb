{
  "nbformat": 4,
  "nbformat_minor": 0,
  "metadata": {
    "colab": {
      "provenance": [],
      "authorship_tag": "ABX9TyPzXvs7S1khsmpdZMoL2Af7",
      "include_colab_link": true
    },
    "kernelspec": {
      "name": "python3",
      "display_name": "Python 3"
    },
    "language_info": {
      "name": "python"
    }
  },
  "cells": [
    {
      "cell_type": "markdown",
      "metadata": {
        "id": "view-in-github",
        "colab_type": "text"
      },
      "source": [
        "<a href=\"https://colab.research.google.com/github/projectwint/practice_AI/blob/main/%ED%8C%8C%EC%9D%B4%EC%8D%AC_%ED%95%A8%EC%88%98%2C_%EB%AC%B8%EB%B2%95.ipynb\" target=\"_parent\"><img src=\"https://colab.research.google.com/assets/colab-badge.svg\" alt=\"Open In Colab\"/></a>"
      ]
    },
    {
      "cell_type": "markdown",
      "source": [
        "# ***train_test_split 모듈***\n",
        "출처 : https://teddylee777.github.io/scikit-learn/train-test-split"
      ],
      "metadata": {
        "id": "VTqCPDfW0kxf"
      }
    },
    {
      "cell_type": "markdown",
      "source": [
        "사이킷런(scikit-learn)의 model_selection 패키지 안에 train_test_split 모듈을 활용하여 학습 데이터 셋과 테스트 셋을 분리할 수 있다."
      ],
      "metadata": {
        "id": "rTalicmG0yOq"
      }
    },
    {
      "cell_type": "markdown",
      "source": [
        "***train(학습 셋) / test(테스트 셋) 분리 이유?***\n",
        "\n",
        "머신러닝 모델에 train 데이터를 100% 학습시킨 후 test 데이터에 모델을 적용했을 때 성능이 생각보다 안 나오는 경우(Overfitting)가 생김.\n",
        "\n",
        "모델이 내가 가진 학습 데이터에 너무 과적합되도록 학습하여여, 이를 조금이라도 벗어난 케이스에 대해서는 예측율이 현저히 떨어진다.\n",
        "\n",
        "따라서 기존 train / test로 구분 되어 있었던 데이터 셋을 train에서 train / validation으로 일정 비율 쪼갠 다음에 학습 시에는 train(학습) 셋으로 학습 후 중간중간 validation(테스트) 셋으로 내가 학습한 모델 평가를 해주는 것\n"
      ],
      "metadata": {
        "id": "LEMQ2Rv81a2K"
      }
    },
    {
      "cell_type": "code",
      "source": [
        "from sklearn.datasets import load_iris # 샘플 데이터 로딩\n",
        "from sklearn.model_selection import train_test_split\n",
        "\n",
        "# load sample\n",
        "dataset = load_iris()\n",
        "\n",
        "data = dataset['data']\n",
        "target = dataset['target']\n",
        "\n",
        "# train_test_split\n",
        "x_train, x_valid, y_train, y_valid = train_test_split(data, target, test_size=0.2, shuffle=True, stratify=target, random_state=34)"
      ],
      "metadata": {
        "id": "W6PawGKg3R2O"
      },
      "execution_count": null,
      "outputs": []
    },
    {
      "cell_type": "markdown",
      "source": [
        "***옵션 값 설명***\n",
        "\n",
        "test_size : 테스트 셋 구성 비율. train_size의 옵션과 반대 관계. (주로 test_size를 지정) 0.2는 전체 데이터 셋의 20%를 test (validation) 셋으로 지정하겠다는 의미. **default=0.25**\n",
        "\n",
        "shuffle: split을 해주기 이전에 섞을건지 여부. 보통은 default 값으로 놔둠. **default=True**\n",
        "\n",
        "stratify: classification을 다룰 때 매우 중요한 옵션값. stratify 값을 target으로 지정해주면 각각의 class 비율(ratio)을 train / validation에 유지. (한 쪽에 쏠려서 분배되는 것을 방지) 만약 이 옵션을 지정해 주지 않고 classification 문제를 다룬다면, 성능의 차이가 많이 날 수 있다. **default=None**\n",
        "\n",
        "random_state: 세트를 섞을 때 해당 int 값을 보고 섞으며, 하이퍼 파라미터를 튜닝시 이 값을 고정해두고 튜닝해야 매번 데이터셋이 변경되는 것을 방지할 수 있다."
      ],
      "metadata": {
        "id": "wY6zkrhb4cQd"
      }
    },
    {
      "cell_type": "markdown",
      "source": [
        "# ***glob.glob()***\n",
        "glob 모듈의 glob 함수 - 파일명을 리스트 형식으로 반환환\n",
        "\n",
        "출처 : https://m.blog.naver.com/PostView.naver?isHttpsRedirect=true&blogId=siniphia&logNo=221397012627"
      ],
      "metadata": {
        "id": "mqT63EK7v-Kl"
      }
    },
    {
      "cell_type": "markdown",
      "source": [
        "dir폴더의 모든 파일 목록\n",
        "\n",
        "dir : file1.txt, file2.txt, file101.txt, file102.txt, filea.txt, fileb.txt, file1.jpg, file2.jpg\n",
        "\n",
        "```\n",
        "import glob\n",
        "\n",
        "# '*'는 임의 길이의 모든 문자열을 의미한다.\n",
        ">>> output = glob.glob('dir/*.txt')\n",
        ">>> print(output)\n",
        "['dir\\\\file1.txt', 'dir\\\\file101.txt', 'dir\\\\file102.txt', 'dir\\\\file2.txt', 'dir\\\\filea.txt', 'dir\\\\fileb.txt']\n",
        "\n",
        "# '?'는 한자리의 문자를 의미한다.\n",
        ">>> output = glob.glob('dir/file?.*')\n",
        ">>> print(output)\n",
        "['dir\\\\file1.bmp', 'dir\\\\file1.txt', 'dir\\\\file2.bmp', 'dir\\\\file2.txt', 'dir\\\\filea.txt', 'dir\\\\fileb.txt']\n",
        "\n",
        "# recursive=True로 설정하고 '**'를 사용하면 모든 하위 디렉토리까지 탐색한다.\n",
        "# 기본값은 False이며, 파일이 너무 많을 경우에 사용하면 과도한 cost가 소모된다고 한다.\n",
        "\n",
        "```"
      ],
      "metadata": {
        "id": "XHhArqmSxM55"
      }
    },
    {
      "cell_type": "markdown",
      "source": [
        "# ***예외처리***\n",
        "파이썬에서 오류를 처리하는 방법\n",
        "\n",
        "출처 : https://wikidocs.net/30"
      ],
      "metadata": {
        "id": "bpLSAt-x5au4"
      }
    },
    {
      "cell_type": "markdown",
      "source": [
        "***try, except문***"
      ],
      "metadata": {
        "id": "xP8vZBCD5zHW"
      }
    },
    {
      "cell_type": "markdown",
      "source": [
        "try 블록 수행 중 오류가 발생하면 except 블록이 수행된다. 하지만 try 블록에서 오류가 발생하지 않는다면 except 블록은 수행되지 않는다.\n",
        "\n",
        "\n",
        "```\n",
        "try:\n",
        "    ...\n",
        "except [발생오류 [as 오류변수]]:\n",
        "    ...\n",
        "```\n",
        "\n"
      ],
      "metadata": {
        "id": "v_whEkdg8Hiw"
      }
    },
    {
      "cell_type": "code",
      "source": [
        "#오류 종류에 상관없이\n",
        "try:\n",
        "    ...\n",
        "except:\n",
        "    ...\n",
        "\n",
        "#특정 오류에만\n",
        "try:\n",
        "    ...\n",
        "except 발생오류:\n",
        "    ...\n",
        "\n",
        "#오류의 내용까지 알고 싶을 때\n",
        "try:\n",
        "    4 / 0\n",
        "except ZeroDivisionError as e:\n",
        "    print(e)"
      ],
      "metadata": {
        "colab": {
          "base_uri": "https://localhost:8080/"
        },
        "id": "PfMijbyN5yIg",
        "outputId": "a51cb201-3c9d-4e2f-a428-dc46469c2ead"
      },
      "execution_count": null,
      "outputs": [
        {
          "output_type": "stream",
          "name": "stdout",
          "text": [
            "division by zero\n"
          ]
        }
      ]
    },
    {
      "cell_type": "markdown",
      "source": [
        "여러개 오류 처리\n",
        "\n",
        "\n"
      ],
      "metadata": {
        "id": "58sKFeq_9do4"
      }
    },
    {
      "cell_type": "code",
      "source": [
        "try:\n",
        "    a = [1,2]\n",
        "    print(a[3])\n",
        "    4/0 #여기에 오기 전에 인덱싱 오류가 이미 발생\n",
        "except ZeroDivisionError: #실행 X\n",
        "    print(\"0으로 나눌 수 없습니다.\")\n",
        "except IndexError:\n",
        "    print(\"인덱싱 할 수 없습니다.\")\n",
        "\n",
        "#한꺼번에\n",
        "try:\n",
        "    a = [1,2]\n",
        "    print(a[3])\n",
        "    4/0\n",
        "except (ZeroDivisionError, IndexError) as e: #먼저 발생한 오류 하나 출력\n",
        "    print(e)"
      ],
      "metadata": {
        "colab": {
          "base_uri": "https://localhost:8080/"
        },
        "id": "Inz8UASH9uGs",
        "outputId": "c4269c7c-8869-4dc0-935e-ec26e0f0075e"
      },
      "execution_count": null,
      "outputs": [
        {
          "output_type": "stream",
          "name": "stdout",
          "text": [
            "인덱싱 할 수 없습니다.\n",
            "list index out of range\n"
          ]
        }
      ]
    },
    {
      "cell_type": "markdown",
      "source": [
        "**try .. finally**"
      ],
      "metadata": {
        "id": "njZGqO1L9CpL"
      }
    },
    {
      "cell_type": "markdown",
      "source": [
        "try문에는 finally절을 사용할 수 있다. finally절은 try문 수행 도중 예외 발생 여부에 상관없이 항상 수행된다. 보통 finally절은 사용한 리소스를 close해야 할 때에 많이 사용한다.\n",
        "\n",
        "\n",
        "```\n",
        "try:\n",
        "    f = open('foo.txt', 'w')\n",
        "    # 무언가를 수행한다.\n",
        "\n",
        "    (... 생략 ...)\n",
        "\n",
        "finally:\n",
        "    f.close()  # 중간에 오류가 발생하더라도 무조건 실행된다.\n",
        "```\n",
        "\n"
      ],
      "metadata": {
        "id": "3hXa-OZK9Osz"
      }
    },
    {
      "cell_type": "markdown",
      "source": [
        "***try .. else***"
      ],
      "metadata": {
        "id": "OqMNlQe2-hSB"
      }
    },
    {
      "cell_type": "markdown",
      "source": [
        "try문에는 else절도 사용 가능하다.\n",
        "\n",
        "\n",
        "\n",
        "```\n",
        "try:\n",
        "    ...\n",
        "except [발생오류 [as 오류변수]]:\n",
        "    ...\n",
        "else:  # 오류가 없을 경우에만 수행된다.\n",
        "    ...\n",
        "```\n",
        "\n"
      ],
      "metadata": {
        "id": "78FvBtAA-rSt"
      }
    },
    {
      "cell_type": "code",
      "source": [
        "try:\n",
        "    age=int(input('나이를 입력하세요: '))\n",
        "except: #입력이 숫자가 아니어서 오류 발생할 경우\n",
        "    print('입력이 정확하지 않습니다.')\n",
        "else:\n",
        "    if age <= 18:\n",
        "        print('미성년자는 출입금지입니다.')\n",
        "    else:\n",
        "        print('환영합니다.')"
      ],
      "metadata": {
        "id": "zcXXYrzY-qrr",
        "colab": {
          "base_uri": "https://localhost:8080/"
        },
        "outputId": "a4d101d9-4ee1-45fa-a641-c91ee61e0aa4"
      },
      "execution_count": null,
      "outputs": [
        {
          "output_type": "stream",
          "name": "stdout",
          "text": [
            "나이를 입력하세요: 16\n",
            "미성년자는 출입금지입니다.\n"
          ]
        }
      ]
    },
    {
      "cell_type": "markdown",
      "source": [
        "# ***enumerate()***\n",
        "\n",
        "출처 : https://www.daleseo.com/python-enumerate/"
      ],
      "metadata": {
        "id": "HlLrLN6Twwox"
      }
    },
    {
      "cell_type": "markdown",
      "source": [
        "기본적으로 인덱스와 원소로 이루어진 튜플을 만들어줌.\n"
      ],
      "metadata": {
        "id": "rJX7XJIUw199"
      }
    },
    {
      "cell_type": "code",
      "execution_count": null,
      "metadata": {
        "colab": {
          "base_uri": "https://localhost:8080/"
        },
        "id": "7y8lAYj1wfXi",
        "outputId": "16475531-01fb-455f-c151-4ecc7da2aa0f"
      },
      "outputs": [
        {
          "output_type": "stream",
          "name": "stdout",
          "text": [
            "(0, 'A')\n",
            "(1, 'B')\n",
            "(2, 'C')\n"
          ]
        }
      ],
      "source": [
        "for entry in enumerate(['A', 'B', 'C']):\n",
        "    print(entry)"
      ]
    },
    {
      "cell_type": "markdown",
      "source": [
        "인덱스와 원소를 각각 다른 변수에 할당하고 싶다면 인자 풀기(unpacking)을 해줘야 함.\n",
        "\n",
        "\n",
        "```\n",
        "#참고로 각 변수에 인자풀기(unpacking)로 나눠서 할당 가능\n",
        "for i, j, k in [['a', 'b', 'c'], ['d', 'e', 'f']]:\n",
        "    print(i, j, k)\n",
        "#결과\n",
        "#a b c\n",
        "#d e f\n",
        "```\n",
        "\n",
        "\n",
        "\n",
        "\n",
        "\n"
      ],
      "metadata": {
        "id": "h5gdeIVLwjNu"
      }
    },
    {
      "cell_type": "code",
      "source": [
        "for i, letter in enumerate(['A', 'B', 'C']):\n",
        "     print(i, letter)"
      ],
      "metadata": {
        "colab": {
          "base_uri": "https://localhost:8080/"
        },
        "id": "i7WM6D2Txz1L",
        "outputId": "b8027b95-1624-4708-8752-3474165dac4a"
      },
      "execution_count": null,
      "outputs": [
        {
          "output_type": "stream",
          "name": "stdout",
          "text": [
            "0 A\n",
            "1 B\n",
            "2 C\n"
          ]
        }
      ]
    },
    {
      "cell_type": "markdown",
      "source": [
        "시작 인덱스 변경"
      ],
      "metadata": {
        "id": "pha3kUmoyFTE"
      }
    },
    {
      "cell_type": "code",
      "source": [
        "#enumerate() 함수를 호출할 때 start 인자에 시작하고 싶은 숫자를 넘기기기\n",
        "for i, letter in enumerate(['A', 'B', 'C'], start=1):\n",
        "     print(i, letter)"
      ],
      "metadata": {
        "colab": {
          "base_uri": "https://localhost:8080/"
        },
        "id": "saAkfEUXyHRg",
        "outputId": "e9f184e7-056a-49f5-c4d7-fba4b3d45875"
      },
      "execution_count": null,
      "outputs": [
        {
          "output_type": "stream",
          "name": "stdout",
          "text": [
            "1 A\n",
            "2 B\n",
            "3 C\n"
          ]
        }
      ]
    },
    {
      "cell_type": "markdown",
      "source": [
        "***enumerate() 자체는?***\n",
        "\n"
      ],
      "metadata": {
        "id": "2aPSsU7tyvIg"
      }
    },
    {
      "cell_type": "markdown",
      "source": [
        "파이썬에서 for 문은 내부적으로 in 뒤에 오는 목록을 대상으로 계속해서 next() 함수를 호출하고 있다고 생각할 수 있다.\n",
        "\n",
        "일반 리스트를 iter() 함수에 넘겨 반복자(iterator)로 만든 후 next() 함수를 호출해보면 원소들이 차례로 얻어진다."
      ],
      "metadata": {
        "id": "gkSsURinzF7y"
      }
    },
    {
      "cell_type": "code",
      "source": [
        "iter_letters = iter(['A', 'B', 'C'])\n",
        "print(next(iter_letters))\n",
        "print(next(iter_letters))\n",
        "next(iter_letters)"
      ],
      "metadata": {
        "colab": {
          "base_uri": "https://localhost:8080/",
          "height": 74
        },
        "id": "vvI9VA8fzNnm",
        "outputId": "297d504a-3cab-42c7-847c-eeb8e5a8c8c2"
      },
      "execution_count": null,
      "outputs": [
        {
          "output_type": "stream",
          "name": "stdout",
          "text": [
            "A\n",
            "B\n"
          ]
        },
        {
          "output_type": "execute_result",
          "data": {
            "text/plain": [
              "'C'"
            ],
            "application/vnd.google.colaboratory.intrinsic+json": {
              "type": "string"
            }
          },
          "metadata": {},
          "execution_count": 9
        }
      ]
    },
    {
      "cell_type": "markdown",
      "source": [
        "enumerate() 함수를 호출한 결과를 대상으로 next() 함수를 계속해서 호출해보면, 인덱스와 원소의 쌍이 튜플(tuple)의 형태로 차례로 얻어진다."
      ],
      "metadata": {
        "id": "zWooW4YKzzlX"
      }
    },
    {
      "cell_type": "code",
      "source": [
        "enumerate_letters = enumerate(['A', 'B', 'C'])\n",
        "next(enumerate_letters)"
      ],
      "metadata": {
        "colab": {
          "base_uri": "https://localhost:8080/"
        },
        "id": "tLqghDxzzsas",
        "outputId": "7f7ad853-b51b-420b-f1c8-0da210248be9"
      },
      "execution_count": null,
      "outputs": [
        {
          "output_type": "execute_result",
          "data": {
            "text/plain": [
              "(0, 'A')"
            ]
          },
          "metadata": {},
          "execution_count": 10
        }
      ]
    },
    {
      "cell_type": "markdown",
      "source": [
        "결론 : enumerate() 함수는 인자로 넘어온 목록을 기준으로 인덱스와 원소를 차례대로 접근하게 해주는 반복자(iterator) 객체를 반환해주는 함수이다."
      ],
      "metadata": {
        "id": "UXS9sRY32bKQ"
      }
    },
    {
      "cell_type": "code",
      "source": [
        "list(enumerate(['A', 'B', 'C']))"
      ],
      "metadata": {
        "colab": {
          "base_uri": "https://localhost:8080/"
        },
        "id": "1FShGB3s2dWX",
        "outputId": "4892d6e6-a5d6-4c13-885c-4b76277b1878"
      },
      "execution_count": null,
      "outputs": [
        {
          "output_type": "execute_result",
          "data": {
            "text/plain": [
              "[(0, 'A'), (1, 'B'), (2, 'C')]"
            ]
          },
          "metadata": {},
          "execution_count": 11
        }
      ]
    }
  ]
}