{
  "nbformat": 4,
  "nbformat_minor": 0,
  "metadata": {
    "colab": {
      "provenance": [],
      "authorship_tag": "ABX9TyNKfqwQ70Eoa1UO4FiW/82O",
      "include_colab_link": true
    },
    "kernelspec": {
      "name": "python3",
      "display_name": "Python 3"
    },
    "language_info": {
      "name": "python"
    }
  },
  "cells": [
    {
      "cell_type": "markdown",
      "metadata": {
        "id": "view-in-github",
        "colab_type": "text"
      },
      "source": [
        "<a href=\"https://colab.research.google.com/github/projectwint/practice_AI/blob/main/%EB%8D%B0%EC%9D%B4%ED%84%B0%EC%85%8B_%ED%8E%B8%EC%A7%91.ipynb\" target=\"_parent\"><img src=\"https://colab.research.google.com/assets/colab-badge.svg\" alt=\"Open In Colab\"/></a>"
      ]
    },
    {
      "cell_type": "markdown",
      "source": [
        "keras를 이용한 신경망 학습에 더 많은 이미지를 넣기 위한 코드\n",
        "keras에 있는 ImageDataGenerator를 이용해 각도를 바꾸고 이동을 해서 이미지를 더 많이 만들어준다. \n",
        "\n",
        "출처: https://lsjsj92.tistory.com/355"
      ],
      "metadata": {
        "id": "cc4g6Feom-dz"
      }
    },
    {
      "cell_type": "code",
      "execution_count": null,
      "metadata": {
        "id": "0obTYl_Sm4wS"
      },
      "outputs": [],
      "source": [
        "file_name_freq += 1\n",
        "#데이터셋 불러오기\n",
        "data_aug_gen = ImageDataGenerator(rescale = 1/255,\n",
        "                                  rotation_range = 15,\n",
        "                                  width_shift_range = 0.1,\n",
        "                                  height_shift_range = 0.1,\n",
        "                                  shear_range = 0.5,\n",
        "                                  zoom_range = [0.8, 2.0],\n",
        "                                  horizontal_flip = True,\n",
        "                                  vertical_flip = True,\n",
        "                                  fill_mode = 'nearest')\n",
        "\n",
        "img = load_img(fname)\n",
        "x = img_to_array(img)\n",
        "x = x.reshape((1,) + x.shape)\n",
        "\n",
        "i = 0\n",
        "save_to_dir = fname.split('\\\\')[0] + '/' + fname.split('\\\\')[1]\n",
        "if not save_to_dir == './imags_others/train/ground':\n",
        "  #저장경로 지정\n",
        "  for batch in data_aug_gen.flow(x, batch_size = 1, save_to_dir = save_to_dir, save_prefix = 'plus_' + str(file_name_freq),\n",
        "                                 save_format='jpg'):\n",
        "    i += 1\n",
        "    if i > 10:\n",
        "      break\n",
        "    #사진 하나마다 10개씩 추가"
      ]
    }
  ]
}