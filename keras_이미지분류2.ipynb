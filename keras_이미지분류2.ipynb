{
  "nbformat": 4,
  "nbformat_minor": 0,
  "metadata": {
    "colab": {
      "provenance": [],
      "authorship_tag": "ABX9TyOlQK8sCeGkRXFloSgSrDAj",
      "include_colab_link": true
    },
    "kernelspec": {
      "name": "python3",
      "display_name": "Python 3"
    },
    "language_info": {
      "name": "python"
    }
  },
  "cells": [
    {
      "cell_type": "markdown",
      "metadata": {
        "id": "view-in-github",
        "colab_type": "text"
      },
      "source": [
        "<a href=\"https://colab.research.google.com/github/projectwint/practice_AI/blob/main/keras_%EC%9D%B4%EB%AF%B8%EC%A7%80%EB%B6%84%EB%A5%982.ipynb\" target=\"_parent\"><img src=\"https://colab.research.google.com/assets/colab-badge.svg\" alt=\"Open In Colab\"/></a>"
      ]
    },
    {
      "cell_type": "markdown",
      "source": [
        "이진 분류 코드(binary classification)"
      ],
      "metadata": {
        "id": "lpj4Y0R5BPua"
      }
    },
    {
      "cell_type": "markdown",
      "source": [
        "이미지와 카테고리를 X, Y 값으로 나누기\n",
        "</br>\n",
        "</br>\n",
        "최종적으로 image_data.npy의 형태로 저장된다.\n",
        "</br>\n",
        "출처: https://github.com/lsjsj92/keras_basic/blob/master/6.%20predict_binary_img_with_CNN.ipynb\n",
        "<br>\n",
        "https://lsjsj92.tistory.com/357"
      ],
      "metadata": {
        "id": "U7yw1m6lIB3l"
      }
    },
    {
      "cell_type": "code",
      "execution_count": null,
      "metadata": {
        "id": "Cj6xw54UH7XS"
      },
      "outputs": [],
      "source": [
        "from PIL import Image\n",
        "import os, glob, sys, numpy as np\n",
        "from sklearn.model_selection import train_test_split\n",
        "from keras.utils import np_utils\n",
        "\n",
        "img_dir = './binary_data/imgs' #이미지 경로\n",
        "categories = ['ground', 'water']\n",
        "np_classes = len(categories)\n",
        "\n",
        "#이미지 크기: 128x128 px\n",
        "image_w = 128\n",
        "image_h = 128\n",
        "\n",
        "pixel = image_h*image_w*3\n",
        "\n",
        "X = []\n",
        "y = []\n",
        "\n",
        "for idx, cat in enumerate(categories):\n",
        "  img_dir_detail = img_dir + \"/\" + cat\n",
        "  files = glob.glob(img_dir_detail + \"/*.jpg\")\n",
        "\n",
        "  for i, f in enumerate(files):\n",
        "    try:\n",
        "      img = Image.open(f)\n",
        "      img = img.convert(\"RGB\")\n",
        "      img = img.resize((image_w, image_h))\n",
        "      data = np.asarray(img)\n",
        "      #Y는 0, 1이기 때문에 idx 값으로 넣는다.\n",
        "      X.append(data)\n",
        "      y.append(idx)\n",
        "      if i % 300 == 0:\n",
        "        print(cat, \" : \", f)\n",
        "      except:\n",
        "        print(cat, str(i) + \"번째에서 에러\")\n",
        "\n",
        "X = np.array(X)\n",
        "Y = np.array(y)\n",
        "\n",
        "X_train, X_test, Y_train, Y_test, Y_test = train_test_split(X, Y, test_size = 0.1)\n",
        "xy = (X_train, X_test, Y_train, Y_test)\n",
        "np.save(\"./numpy_data/binary_image_data.npy\", xy)"
      ]
    },
    {
      "cell_type": "markdown",
      "source": [
        "출처: https://www.daleseo.com/python-enumerate/\n",
        "\n",
        "enumerate() 함수\n",
        "기본적으로 인덱스와 원소로 이루어진 tuple을 만들어준다. \n",
        "인덱스와 원소를 다른 변수에 할당하고 싶으면 unpacking을 해야 한다. \n",
        "</br></br>\n",
        "아래의 코드에서는 idx에 index를, cat에 원소가 할당되는 것. \n",
        "</br>\n",
        "</br>\n",
        "+print(idx, cat) </br>\n",
        "0 ground </br>\n",
        "1 water\n",
        "\n",
        "+print(label, cat)</br>\n",
        "[1, 0] ground </br>\n",
        "[0, 1] water"
      ],
      "metadata": {
        "id": "Craj9i1MK48f"
      }
    },
    {
      "cell_type": "markdown",
      "source": [
        "CNN 컨볼루션 신경망 모델, Conv2D로 만들 수 있다.\n",
        "</br>\n",
        "방금 만든 npy 파일을 이용해서 훈련한다.\n",
        "</br></br>\n",
        "컨볼루션이나 맥스룰링은 2차원인데 전결합층에 전달하기 위해서는 1차원으로 바꿔줘야 한다. \n",
        "이 때 사용하는 것이 **Flatten()** 이다. "
      ],
      "metadata": {
        "id": "Kgiq3-M-MmYj"
      }
    },
    {
      "cell_type": "code",
      "source": [
        "from keras.models imort Sequential\n",
        "from keras.layers import Conv2D, MaxPooling2D, Dense, Flatten, Dropout\n",
        "from keras.callbacks import EarlyStopping, ModelCheckpoint\n",
        "import matplotlib.pyplot as plt\n",
        "import keras.backen.tensorflow_backend as K\n",
        "\n",
        "X_train, X_test, y_test, y_test = np.load('./numpy_data/binary_image_data.npy')\n",
        "print(X_train.shape)\n",
        "print(X_train.shape[0])\n",
        "print(np.bincount(y_train))\n",
        "print(np.bincount(y_test))"
      ],
      "metadata": {
        "id": "q6i2s-qCpTxt"
      },
      "execution_count": null,
      "outputs": []
    },
    {
      "cell_type": "code",
      "source": [
        "image_w = 128\n",
        "image_h = 18\n",
        "X_train = X_train.astype('float32') / 255\n",
        "X_test = X_test.astype('float32') / 255\n",
        "\n",
        "with K.tf_ops.device('/device:GPU:0'):\n",
        "  model = Sequential()\n",
        "  model.add(Con2D(32, (3, 3), padding = \"same\", input_shape = X_train.shpae[1:], activation = \"relu\"))\n",
        "  model.add(Maxpooling2D(pool_size = (2, 2)))\n",
        "  #Conv2D를 이용\n",
        "  #3x3 크기의 컨볼루션 레이어를 32개의 필터수만큼 처음에 생성한다.\n",
        "  #활성화 함수는 relu를 사용\n",
        "\n",
        "  model.add(Conv2D(128, (3, 3), padding = \"same\", activation = \"relu\"))\n",
        "  model.add(MaxPooling2D(pool_size = (2, 2)))\n",
        "  model.add(Dropout(0.25))\n",
        "  #입력형태(input_shpae)는 128 x 128이기 때문에 (128, 128, 3)의 tuple 값을 가짐\n",
        "  #MaxPooling2D: 주요값을 뽑아내서 작은 출력값을 만들고, 사소한 변화는 무시한다. \n",
        "\n",
        "  model.add(Conv2D(128, (3, 3), padding = \"same\", activation = \"relu\"))\n",
        "  model.add(MaxPooling2D(pool_size = (2, 2)))\n",
        "  model.add(Dropout(0.25))\n",
        "\n",
        "  model.add(Flatten())\n",
        "  #CNN에서 컨볼루션 레이어를 거치면 주요 특징만 추출돼서 학습됨. \n",
        "  model.add(Dense(256, activation = \"relu\"))\n",
        "  model.add(Dropout(0.5))\n",
        "  model.add(Dense(1, activation = \"sigmoid\"))\n",
        "\n",
        "  model.compile(loss = 'binary_crossentropy', optimizer = 'adam', metrics = ['accuracy'])\n",
        "  #2진분류(카테고리가 2개)기 때문에 binary 값으로 출력을 지정한다. \n",
        "\n",
        "  model_dir = './model'\n",
        "\n",
        "  if not os.path.exists(model_dir):\n",
        "    os.mkdir(model_dir)\n",
        "  model_path = model_dir + \"/ground_water_classify.model\"\n",
        "\n",
        "  checkpoint = ModelCheckpoint(filepath = model_path, monitor = 'val_loss', verbos = 1, save_best_only = True)\n",
        "  early_stopping = EarlyStopping(monitor = 'val_loss', patience = 5)\n",
        "  #val_loss 값이 5번 이상 상승되지 않으면 자동으로 멈추는 코드(overfitting 방지)"
      ],
      "metadata": {
        "id": "-h1B-ZbHqFsG"
      },
      "execution_count": null,
      "outputs": []
    },
    {
      "cell_type": "code",
      "source": [
        "model.summary()"
      ],
      "metadata": {
        "id": "QW4R09OfuZRU"
      },
      "execution_count": null,
      "outputs": []
    },
    {
      "cell_type": "code",
      "source": [
        "history = model.fit(X_train, y_train, batch_size = 128, epochs = 100, validation_split = 0.15, callbacks = [checkpoint, early_stopping])"
      ],
      "metadata": {
        "id": "WYmG2pCaweP1"
      },
      "execution_count": null,
      "outputs": []
    },
    {
      "cell_type": "code",
      "source": [
        "print(\"정확도 : %.2f\" %(model.evaluate(X_test, y_test)[1]))"
      ],
      "metadata": {
        "id": "nfbM8ld8wwCk"
      },
      "execution_count": null,
      "outputs": []
    },
    {
      "cell_type": "code",
      "source": [
        "plt.plot(history.history['loss'])\n",
        "plt.plot(histroy.history['val_loss'])\n",
        "plt.plot(history.history['acc'])\n",
        "plt.plot(history.history['val_acc'])\n",
        "\n",
        "plt.title('model loss')\n",
        "plt.ylabel('loss')\n",
        "plt.xlabel('epoch')\n",
        "plt.legend(['loss', 'val_loss', 'acc', 'val_acc'], loc = 'upper left')\n",
        "\n",
        "plt. show()"
      ],
      "metadata": {
        "id": "k784oipDw5Ig"
      },
      "execution_count": null,
      "outputs": []
    },
    {
      "cell_type": "code",
      "source": [
        "from PIL import Image\n",
        "import os, glob, numpy as np\n",
        "from keras.models import load_model\n",
        "\n",
        "import tensorflow as tf\n",
        "\n",
        "seed = 5\n",
        "tf.set_random_seed(seed)\n",
        "np.random.seed(seed)\n",
        "\n",
        "caltech_dir = './binary_img_data/img_test'\n",
        "\n",
        "image_w = 128\n",
        "image_h = 128\n",
        "\n",
        "pixels = image_h * image_w * 3\n",
        "\n",
        "X = []\n",
        "filenames = []\n",
        "files = glob.glob(caltech_dir + \"/*/*.*\")\n",
        "\n",
        "for i , f in enumerate(files):\n",
        "  img = Image.open(f)\n",
        "  img = img.convert(\"RGB\")\n",
        "  img = img.resize((image_w, image_h))\n",
        "  data = np.asarray(img)\n",
        "\n",
        "  filenames.append(f)\n",
        "  X.append(data)\n",
        "\n",
        "X = np.array(X)\n",
        "X = X.astype(float) / 255\n",
        "model = load_model('./model/ground_water_classify.model')\n",
        "\n",
        "prediction = model.predict(X)\n",
        "np.set_printoption(formatter = {'float' : lambda x : \"{0:0.3f}\".format(x)})\n",
        "cnt = 0\n",
        "\n",
        "for i in prediction:\n",
        "  if i >= 0.5:\n",
        "    print(\"해당\" + filenames[cnt].split(\"\\\\\")[1] + filenames[cnt].split(\"\\\\\")[2] + \" 이미지는 땅으로 추정됩니다.\")\n",
        "  else:\n",
        "    print(\"해당\" + filenames[cnt].split(\"\\\\\")[1] + filename[cnt].split(\"\\\\\")[2] + \" 이미지는 물로 추정됩니다.\")\n",
        "  cnt += 1"
      ],
      "metadata": {
        "id": "86m9mAZpyaUV"
      },
      "execution_count": null,
      "outputs": []
    }
  ]
}