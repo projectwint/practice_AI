{
  "nbformat": 4,
  "nbformat_minor": 0,
  "metadata": {
    "colab": {
      "provenance": [],
      "mount_file_id": "11N17JByvjfaivq3Y2zFuvDxcIVhpJ7PW",
      "authorship_tag": "ABX9TyPPU9l0waFArydcxkd9rq/J",
      "include_colab_link": true
    },
    "kernelspec": {
      "name": "python3",
      "display_name": "Python 3"
    },
    "language_info": {
      "name": "python"
    }
  },
  "cells": [
    {
      "cell_type": "markdown",
      "metadata": {
        "id": "view-in-github",
        "colab_type": "text"
      },
      "source": [
        "<a href=\"https://colab.research.google.com/github/projectwint/practice_AI/blob/main/ImageDataGenerator_%EC%88%98%EC%A0%95%EB%B3%B8.ipynb\" target=\"_parent\"><img src=\"https://colab.research.google.com/assets/colab-badge.svg\" alt=\"Open In Colab\"/></a>"
      ]
    },
    {
      "cell_type": "code",
      "execution_count": null,
      "metadata": {
        "colab": {
          "base_uri": "https://localhost:8080/"
        },
        "id": "QkeYQxa5Mcco",
        "outputId": "373abae3-2413-44bb-f5a0-0d1e09de92b3"
      },
      "outputs": [
        {
          "output_type": "stream",
          "name": "stdout",
          "text": [
            "Mounted at /gdrive\n"
          ]
        }
      ],
      "source": [
        "from google.colab import drive\n",
        "drive.mount('/gdrive', force_remount=True)"
      ]
    },
    {
      "cell_type": "markdown",
      "source": [
        "출처 : https://sevillabk.github.io/image-generator/ </br>\n",
        "https://velog.io/@ym980118/%EB%94%A5%EB%9F%AC%EB%8B%9D-Keras-ImageDataGenerator%EB%A5%BC-%EC%9D%B4%EC%9A%A9%ED%95%9C-%EC%9D%B4%EB%AF%B8%EC%A7%80-%EB%8D%B0%EC%9D%B4%ED%84%B0-%EC%A6%9D%EA%B0%95-Data-Augmentation"
      ],
      "metadata": {
        "id": "5rBnnI3tbeCa"
      }
    },
    {
      "cell_type": "markdown",
      "source": [
        "파일명이 랜덤으로 생성되면서 데이터의 수가 늘어날수록 파일명이 중복될 확률이 높아져 손실률이 높아지는 문제가 발생함. 따라서 파일명의 접두사에 flag라는 변수를 추가하여 파일명의 중복 가능성을 0에 가깝게 낮춤."
      ],
      "metadata": {
        "id": "ES0gDzz7AECN"
      }
    },
    {
      "cell_type": "code",
      "source": [
        "from tensorflow.keras.preprocessing.image import ImageDataGenerator, img_to_array, load_img\n",
        "import glob\n",
        "import numpy as np\n",
        "\n",
        "img_dir = '/content/drive/MyDrive/2차_편집/물체_2_사진' #사진을 가져올 폴더명\n",
        "save_to_dir = '/content/drive/MyDrive/ground' #증가된 사진을 저장할 폴더명\n",
        "files = glob.glob(img_dir +'/**' + '/*.jpg', recursive=True) #폴더에 저장된 모든 jpg 파일의 리스트(하위 폴더까지 탐색)\n",
        "\n",
        "#좌우반전, -15 ~ +15 사이 임의 각도로 회전, 밝기 조정, 확대\n",
        "data_generator = ImageDataGenerator(horizontal_flip = True,\n",
        "                                    rotation_range=15.0,\n",
        "                                    brightness_range=(0.1, 0.9),\n",
        "                                    zoom_range=[0.5, 0.9])\n",
        "\n",
        "flag = 0 #파일명에 매길 숫자 변수(파일명 중복으로 인한 손실 방지)\n",
        "for i, f in enumerate(files):\n",
        "    image = load_img(f)\n",
        "\n",
        "    x = img_to_array(image)\n",
        "    x = x.reshape((1,) + x.shape)\n",
        "\n",
        "    i = 0\n",
        "    flag += 1\n",
        "    for batch in data_generator.flow(x, batch_size = 1, save_to_dir = save_to_dir,\n",
        "                                     save_prefix = 'ground_' + str(flag), save_format='jpg'):\n",
        "        i += 1\n",
        "        if i >= 10: #한 사진당 10회 반복시 종료\n",
        "            break\n",
        "\n",
        "augmented_files = glob.glob(save_to_dir +'/**' + '/*.jpg', recursive=True) #증가된 파일 리스트\n",
        "\n",
        "print(\"기존 데이터수 :\", len(files), \"\\n증가된 데이터수 :\", len(augmented_files))"
      ],
      "metadata": {
        "id": "OAKNL-4IIOxX"
      },
      "execution_count": null,
      "outputs": []
    }
  ]
}