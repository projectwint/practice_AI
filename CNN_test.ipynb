{
  "nbformat": 4,
  "nbformat_minor": 0,
  "metadata": {
    "colab": {
      "provenance": [],
      "authorship_tag": "ABX9TyMILDoTLy48hMo2TH21aBrh",
      "include_colab_link": true
    },
    "kernelspec": {
      "name": "python3",
      "display_name": "Python 3"
    },
    "language_info": {
      "name": "python"
    }
  },
  "cells": [
    {
      "cell_type": "markdown",
      "metadata": {
        "id": "view-in-github",
        "colab_type": "text"
      },
      "source": [
        "<a href=\"https://colab.research.google.com/github/projectwint/practice_AI/blob/main/CNN_test.ipynb\" target=\"_parent\"><img src=\"https://colab.research.google.com/assets/colab-badge.svg\" alt=\"Open In Colab\"/></a>"
      ]
    },
    {
      "cell_type": "code",
      "execution_count": null,
      "metadata": {
        "id": "G7SW_wOapraN"
      },
      "outputs": [],
      "source": [
        "from keras import Sequential\n",
        "from keras.layers import Conv2D, MaxPooling2D, Dense, Flatten, Dropout\n",
        "import numpy as np\n",
        "\n",
        "image_w = 128\n",
        "image_h = 128\n",
        "\n",
        "#이미지 불러오기\n",
        "X_train, X_test, y_train, y_test = np.load('/content/drive/MyDrive/이미지 분류 프로젝트(2023)/train_set.npy', allow_pickle=True)\n",
        "X_train = X_train.astype(float)\n",
        "X_test = X_test.astype(float)\n",
        "\n",
        "#가중치 계산 ()\n",
        "w0 = np.mean(y_train)\n",
        "w1 = 1 - w0\n",
        "class_weights = {0: w0, 1: w1}\n",
        "\n",
        "#CNN에서 컨볼루션 레이어를 거치면 주요 특징만 추출돼서 학습됨. \n",
        "model = Sequential()\n",
        "model.add(Conv2D(32, (3, 3), padding = \"same\", input_shape = (image_w, image_h, 3), activation = \"relu\"))\n",
        "#Conv2D를 이용\n",
        "#3x3 크기의 컨볼루션 레이어를 32개의 필터수만큼 처음에 생성한다.\n",
        "#입력형태(input_shpae)는 128 x 128이기 때문에 (128, 128, 3)의 tuple 값을 가짐\n",
        "#활성화 함수는 relu를 사용\n",
        "model.add(MaxPooling2D(pool_size = (2, 2)))\n",
        "#MaxPooling2D: 주요값을 뽑아내서 작은 출력값을 만들고, 사소한 변화는 무시한다. \n",
        "\n",
        "model.add(Conv2D(128, (3, 3), padding = \"same\", activation = \"relu\"))\n",
        "model.add(MaxPooling2D(pool_size = (2, 2)))\n",
        "model.add(Dropout(0.25))\n",
        "\n",
        "model.add(Conv2D(128, (3, 3), padding = \"same\", activation = \"relu\"))\n",
        "model.add(MaxPooling2D(pool_size = (2, 2)))\n",
        "model.add(Dropout(0.25))\n",
        "\n",
        "model.add(Flatten())\n",
        "model.add(Dense(256, activation = \"relu\"))\n",
        "model.add(Dropout(0.5))\n",
        "model.add(Dense(1, activation = \"sigmoid\"))\n",
        "\n",
        "model.compile(loss='binary_crossentropy', optimizer='adam', metrics=['accuracy'])"
      ]
    },
    {
      "cell_type": "code",
      "source": [
        "import os\n",
        "from keras.callbacks import EarlyStopping, ModelCheckpoint\n",
        "\n",
        "model_dir = '/content/model'\n",
        "\n",
        "if not os.path.exists(model_dir):\n",
        "    os.mkdir(model_dir)\n",
        "model_path = model_dir + \"/ground_water_classify5.model\"\n",
        "\n",
        "checkpoint = ModelCheckpoint(filepath = model_path, monitor = 'val_loss', verbos = 1, save_best_only = True)\n",
        "early_stopping = EarlyStopping(monitor = 'val_loss', patience = 5)\n",
        "\n",
        "history = model.fit(X_train, y_train, epochs=100, class_weight = class_weights, batch_size=128, validation_split = 0.20, callbacks = [checkpoint, early_stopping])"
      ],
      "metadata": {
        "colab": {
          "base_uri": "https://localhost:8080/"
        },
        "id": "cHyNWO5IqMGd",
        "outputId": "633010ca-7854-4d97-9906-0e6f4954727f"
      },
      "execution_count": null,
      "outputs": [
        {
          "metadata": {
            "tags": null
          },
          "name": "stdout",
          "output_type": "stream",
          "text": [
            "Epoch 1/100\n",
            "34/34 [==============================] - ETA: 0s - loss: 29.8321 - accuracy: 0.7509"
          ]
        },
        {
          "metadata": {
            "tags": null
          },
          "name": "stderr",
          "output_type": "stream",
          "text": [
            "WARNING:absl:Found untraced functions such as _jit_compiled_convolution_op, _jit_compiled_convolution_op, _jit_compiled_convolution_op, _update_step_xla while saving (showing 4 of 4). These functions will not be directly callable after loading.\n"
          ]
        },
        {
          "metadata": {
            "tags": null
          },
          "name": "stdout",
          "output_type": "stream",
          "text": [
            "34/34 [==============================] - 303s 9s/step - loss: 29.8321 - accuracy: 0.7509 - val_loss: 0.5011 - val_accuracy: 0.8662\n",
            "Epoch 2/100\n",
            "34/34 [==============================] - 298s 9s/step - loss: 0.1308 - accuracy: 0.8885 - val_loss: 0.5708 - val_accuracy: 0.8058\n",
            "Epoch 3/100\n",
            "34/34 [==============================] - ETA: 0s - loss: 0.0993 - accuracy: 0.9196"
          ]
        },
        {
          "metadata": {
            "tags": null
          },
          "name": "stderr",
          "output_type": "stream",
          "text": [
            "WARNING:absl:Found untraced functions such as _jit_compiled_convolution_op, _jit_compiled_convolution_op, _jit_compiled_convolution_op, _update_step_xla while saving (showing 4 of 4). These functions will not be directly callable after loading.\n"
          ]
        },
        {
          "metadata": {
            "tags": null
          },
          "name": "stdout",
          "output_type": "stream",
          "text": [
            "34/34 [==============================] - 306s 9s/step - loss: 0.0993 - accuracy: 0.9196 - val_loss: 0.4822 - val_accuracy: 0.8411\n",
            "Epoch 4/100\n",
            "34/34 [==============================] - ETA: 0s - loss: 0.0844 - accuracy: 0.9347"
          ]
        },
        {
          "metadata": {
            "tags": null
          },
          "name": "stderr",
          "output_type": "stream",
          "text": [
            "WARNING:absl:Found untraced functions such as _jit_compiled_convolution_op, _jit_compiled_convolution_op, _jit_compiled_convolution_op, _update_step_xla while saving (showing 4 of 4). These functions will not be directly callable after loading.\n"
          ]
        },
        {
          "metadata": {
            "tags": null
          },
          "name": "stdout",
          "output_type": "stream",
          "text": [
            "34/34 [==============================] - 300s 9s/step - loss: 0.0844 - accuracy: 0.9347 - val_loss: 0.3240 - val_accuracy: 0.8290\n",
            "Epoch 5/100\n",
            "34/34 [==============================] - 292s 9s/step - loss: 0.0819 - accuracy: 0.9305 - val_loss: 0.4850 - val_accuracy: 0.7760\n",
            "Epoch 6/100\n",
            "34/34 [==============================] - ETA: 0s - loss: 0.0792 - accuracy: 0.9340"
          ]
        },
        {
          "metadata": {
            "tags": null
          },
          "name": "stderr",
          "output_type": "stream",
          "text": [
            "WARNING:absl:Found untraced functions such as _jit_compiled_convolution_op, _jit_compiled_convolution_op, _jit_compiled_convolution_op, _update_step_xla while saving (showing 4 of 4). These functions will not be directly callable after loading.\n"
          ]
        },
        {
          "metadata": {
            "tags": null
          },
          "name": "stdout",
          "output_type": "stream",
          "text": [
            "34/34 [==============================] - 295s 9s/step - loss: 0.0792 - accuracy: 0.9340 - val_loss: 0.2818 - val_accuracy: 0.8216\n",
            "Epoch 7/100\n",
            "34/34 [==============================] - ETA: 0s - loss: 0.0679 - accuracy: 0.9442"
          ]
        },
        {
          "metadata": {
            "tags": null
          },
          "name": "stderr",
          "output_type": "stream",
          "text": [
            "WARNING:absl:Found untraced functions such as _jit_compiled_convolution_op, _jit_compiled_convolution_op, _jit_compiled_convolution_op, _update_step_xla while saving (showing 4 of 4). These functions will not be directly callable after loading.\n"
          ]
        },
        {
          "metadata": {
            "tags": null
          },
          "name": "stdout",
          "output_type": "stream",
          "text": [
            "34/34 [==============================] - 294s 9s/step - loss: 0.0679 - accuracy: 0.9442 - val_loss: 0.2324 - val_accuracy: 0.8559\n",
            "Epoch 8/100\n",
            "34/34 [==============================] - ETA: 0s - loss: 0.0597 - accuracy: 0.9477"
          ]
        },
        {
          "metadata": {
            "tags": null
          },
          "name": "stderr",
          "output_type": "stream",
          "text": [
            "WARNING:absl:Found untraced functions such as _jit_compiled_convolution_op, _jit_compiled_convolution_op, _jit_compiled_convolution_op, _update_step_xla while saving (showing 4 of 4). These functions will not be directly callable after loading.\n"
          ]
        },
        {
          "metadata": {
            "tags": null
          },
          "name": "stdout",
          "output_type": "stream",
          "text": [
            "34/34 [==============================] - 295s 9s/step - loss: 0.0597 - accuracy: 0.9477 - val_loss: 0.2271 - val_accuracy: 0.8680\n",
            "Epoch 9/100\n",
            "34/34 [==============================] - ETA: 0s - loss: 0.0632 - accuracy: 0.9466"
          ]
        },
        {
          "metadata": {
            "tags": null
          },
          "name": "stderr",
          "output_type": "stream",
          "text": [
            "WARNING:absl:Found untraced functions such as _jit_compiled_convolution_op, _jit_compiled_convolution_op, _jit_compiled_convolution_op, _update_step_xla while saving (showing 4 of 4). These functions will not be directly callable after loading.\n"
          ]
        },
        {
          "metadata": {
            "tags": null
          },
          "name": "stdout",
          "output_type": "stream",
          "text": [
            "34/34 [==============================] - 288s 9s/step - loss: 0.0632 - accuracy: 0.9466 - val_loss: 0.2111 - val_accuracy: 0.8866\n",
            "Epoch 10/100\n",
            "34/34 [==============================] - 295s 9s/step - loss: 0.0516 - accuracy: 0.9549 - val_loss: 0.2263 - val_accuracy: 0.8578\n",
            "Epoch 11/100\n",
            "34/34 [==============================] - 292s 9s/step - loss: 0.0540 - accuracy: 0.9538 - val_loss: 0.2251 - val_accuracy: 0.8736\n",
            "Epoch 12/100\n",
            "34/34 [==============================] - ETA: 0s - loss: 0.0400 - accuracy: 0.9656"
          ]
        },
        {
          "metadata": {
            "tags": null
          },
          "name": "stderr",
          "output_type": "stream",
          "text": [
            "WARNING:absl:Found untraced functions such as _jit_compiled_convolution_op, _jit_compiled_convolution_op, _jit_compiled_convolution_op, _update_step_xla while saving (showing 4 of 4). These functions will not be directly callable after loading.\n"
          ]
        },
        {
          "metadata": {
            "tags": null
          },
          "name": "stdout",
          "output_type": "stream",
          "text": [
            "34/34 [==============================] - 296s 9s/step - loss: 0.0400 - accuracy: 0.9656 - val_loss: 0.1858 - val_accuracy: 0.8829\n",
            "Epoch 13/100\n",
            "34/34 [==============================] - 292s 9s/step - loss: 0.0373 - accuracy: 0.9677 - val_loss: 0.1927 - val_accuracy: 0.8848\n",
            "Epoch 14/100\n",
            "34/34 [==============================] - ETA: 0s - loss: 0.0362 - accuracy: 0.9670"
          ]
        },
        {
          "metadata": {
            "tags": null
          },
          "name": "stderr",
          "output_type": "stream",
          "text": [
            "WARNING:absl:Found untraced functions such as _jit_compiled_convolution_op, _jit_compiled_convolution_op, _jit_compiled_convolution_op, _update_step_xla while saving (showing 4 of 4). These functions will not be directly callable after loading.\n"
          ]
        },
        {
          "metadata": {
            "tags": null
          },
          "name": "stdout",
          "output_type": "stream",
          "text": [
            "34/34 [==============================] - 294s 9s/step - loss: 0.0362 - accuracy: 0.9670 - val_loss: 0.1599 - val_accuracy: 0.9080\n",
            "Epoch 15/100\n",
            "34/34 [==============================] - ETA: 0s - loss: 0.0381 - accuracy: 0.9696"
          ]
        },
        {
          "metadata": {
            "tags": null
          },
          "name": "stderr",
          "output_type": "stream",
          "text": [
            "WARNING:absl:Found untraced functions such as _jit_compiled_convolution_op, _jit_compiled_convolution_op, _jit_compiled_convolution_op, _update_step_xla while saving (showing 4 of 4). These functions will not be directly callable after loading.\n"
          ]
        },
        {
          "metadata": {
            "tags": null
          },
          "name": "stdout",
          "output_type": "stream",
          "text": [
            "34/34 [==============================] - 292s 9s/step - loss: 0.0381 - accuracy: 0.9696 - val_loss: 0.1361 - val_accuracy: 0.9229\n",
            "Epoch 16/100\n",
            "34/34 [==============================] - 287s 8s/step - loss: 0.0420 - accuracy: 0.9675 - val_loss: 0.1432 - val_accuracy: 0.9238\n",
            "Epoch 17/100\n",
            "34/34 [==============================] - ETA: 0s - loss: 0.0373 - accuracy: 0.9658"
          ]
        },
        {
          "metadata": {
            "tags": null
          },
          "name": "stderr",
          "output_type": "stream",
          "text": [
            "WARNING:absl:Found untraced functions such as _jit_compiled_convolution_op, _jit_compiled_convolution_op, _jit_compiled_convolution_op, _update_step_xla while saving (showing 4 of 4). These functions will not be directly callable after loading.\n"
          ]
        },
        {
          "metadata": {
            "tags": null
          },
          "name": "stdout",
          "output_type": "stream",
          "text": [
            "34/34 [==============================] - 288s 9s/step - loss: 0.0373 - accuracy: 0.9658 - val_loss: 0.1224 - val_accuracy: 0.9545\n",
            "Epoch 18/100\n",
            "34/34 [==============================] - 285s 8s/step - loss: 0.0290 - accuracy: 0.9768 - val_loss: 0.1252 - val_accuracy: 0.9405\n",
            "Epoch 19/100\n",
            "34/34 [==============================] - 286s 8s/step - loss: 0.0325 - accuracy: 0.9754 - val_loss: 0.1465 - val_accuracy: 0.9164\n",
            "Epoch 20/100\n",
            "34/34 [==============================] - 285s 8s/step - loss: 0.0337 - accuracy: 0.9758 - val_loss: 0.1481 - val_accuracy: 0.9154\n",
            "Epoch 21/100\n",
            "34/34 [==============================] - 288s 9s/step - loss: 0.0502 - accuracy: 0.9600 - val_loss: 0.2001 - val_accuracy: 0.9024\n",
            "Epoch 22/100\n",
            "34/34 [==============================] - ETA: 0s - loss: 0.0278 - accuracy: 0.9777"
          ]
        },
        {
          "metadata": {
            "tags": null
          },
          "name": "stderr",
          "output_type": "stream",
          "text": [
            "WARNING:absl:Found untraced functions such as _jit_compiled_convolution_op, _jit_compiled_convolution_op, _jit_compiled_convolution_op, _update_step_xla while saving (showing 4 of 4). These functions will not be directly callable after loading.\n"
          ]
        },
        {
          "metadata": {
            "tags": null
          },
          "name": "stdout",
          "output_type": "stream",
          "text": [
            "34/34 [==============================] - 288s 9s/step - loss: 0.0278 - accuracy: 0.9777 - val_loss: 0.0723 - val_accuracy: 0.9796\n",
            "Epoch 23/100\n",
            "34/34 [==============================] - 291s 9s/step - loss: 0.0281 - accuracy: 0.9803 - val_loss: 0.1554 - val_accuracy: 0.9368\n",
            "Epoch 24/100\n",
            "34/34 [==============================] - 290s 9s/step - loss: 0.0198 - accuracy: 0.9826 - val_loss: 0.0817 - val_accuracy: 0.9740\n",
            "Epoch 25/100\n",
            "34/34 [==============================] - ETA: 0s - loss: 0.0203 - accuracy: 0.9835"
          ]
        },
        {
          "metadata": {
            "tags": null
          },
          "name": "stderr",
          "output_type": "stream",
          "text": [
            "WARNING:absl:Found untraced functions such as _jit_compiled_convolution_op, _jit_compiled_convolution_op, _jit_compiled_convolution_op, _update_step_xla while saving (showing 4 of 4). These functions will not be directly callable after loading.\n"
          ]
        },
        {
          "output_type": "stream",
          "name": "stdout",
          "text": [
            "34/34 [==============================] - 291s 9s/step - loss: 0.0203 - accuracy: 0.9835 - val_loss: 0.0532 - val_accuracy: 0.9823\n",
            "Epoch 26/100\n",
            "34/34 [==============================] - 292s 9s/step - loss: 0.0206 - accuracy: 0.9819 - val_loss: 0.0821 - val_accuracy: 0.9721\n",
            "Epoch 27/100\n",
            "34/34 [==============================] - 291s 9s/step - loss: 0.0427 - accuracy: 0.9651 - val_loss: 0.2085 - val_accuracy: 0.8931\n",
            "Epoch 28/100\n",
            "34/34 [==============================] - 288s 9s/step - loss: 0.0396 - accuracy: 0.9789 - val_loss: 0.1129 - val_accuracy: 0.9647\n",
            "Epoch 29/100\n",
            "34/34 [==============================] - 293s 9s/step - loss: 0.0207 - accuracy: 0.9849 - val_loss: 0.1099 - val_accuracy: 0.9656\n",
            "Epoch 30/100\n",
            "34/34 [==============================] - 291s 9s/step - loss: 0.0311 - accuracy: 0.9768 - val_loss: 0.0554 - val_accuracy: 0.9777\n"
          ]
        }
      ]
    },
    {
      "cell_type": "code",
      "source": [
        "import matplotlib.pyplot as plt\n",
        "#plt.plot(history.history['loss'])\n",
        "plt.plot(history.history['val_loss'])\n",
        "plt.plot(history.history['accuracy'])\n",
        "plt.plot(history.history['val_accuracy'])\n",
        "\n",
        "plt.title('model loss')\n",
        "plt.ylabel('loss')\n",
        "plt.xlabel('epoch')\n",
        "plt.legend(['val_loss', 'acc', 'val_acc'], loc = 'upper left')\n",
        "\n",
        "plt. show()"
      ],
      "metadata": {
        "id": "ocGXXv1ZqeGm",
        "colab": {
          "base_uri": "https://localhost:8080/",
          "height": 295
        },
        "outputId": "327ab036-855b-400d-a208-2abac576000e"
      },
      "execution_count": null,
      "outputs": [
        {
          "output_type": "display_data",
          "data": {
            "text/plain": [
              "<Figure size 432x288 with 1 Axes>"
            ],
            "image/png": "[encoded data removed]"
          },
          "metadata": {
            "needs_background": "light"
          }
        }
      ]
    },
    {
      "cell_type": "code",
      "source": [
        "model.evaluate(X_test, y_test)"
      ],
      "metadata": {
        "id": "RZGdGWujqkew",
        "colab": {
          "base_uri": "https://localhost:8080/"
        },
        "outputId": "9cd04aef-cb2a-41a7-a0b9-78cfadf93e74"
      },
      "execution_count": null,
      "outputs": [
        {
          "output_type": "stream",
          "name": "stdout",
          "text": [
            "19/19 [==============================] - 18s 929ms/step - loss: 0.0735 - accuracy: 0.9682\n"
          ]
        },
        {
          "output_type": "execute_result",
          "data": {
            "text/plain": [
              "[0.07351146638393402, 0.9682274460792542]"
            ]
          },
          "metadata": {},
          "execution_count": 6
        }
      ]
    }
  ]
}